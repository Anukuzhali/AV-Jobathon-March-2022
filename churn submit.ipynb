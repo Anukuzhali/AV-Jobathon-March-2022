{
 "cells": [
  {
   "cell_type": "code",
   "execution_count": 1,
   "metadata": {},
   "outputs": [],
   "source": [
    "import numpy as np\n",
    "import pandas as pd\n",
    "import matplotlib.pyplot as plt\n",
    "import seaborn as sns\n",
    "from sklearn.preprocessing import StandardScaler"
   ]
  },
  {
   "cell_type": "code",
   "execution_count": 2,
   "metadata": {},
   "outputs": [],
   "source": [
    "from sklearn.model_selection import train_test_split, StratifiedKFold\n",
    "pd.set_option('display.max_colwidth', None)\n",
    "\n",
    "import warnings\n",
    "warnings.simplefilter('ignore')"
   ]
  },
  {
   "cell_type": "code",
   "execution_count": 3,
   "metadata": {},
   "outputs": [],
   "source": [
    "from sklearn.metrics import accuracy_score, f1_score\n",
    "\n",
    "from sklearn.tree import DecisionTreeClassifier\n",
    "from sklearn.ensemble import RandomForestClassifier\n",
    "\n",
    "from sklearn.linear_model import LogisticRegression\n",
    "\n",
    "from lightgbm import LGBMClassifier\n",
    "from catboost import CatBoostClassifier\n",
    "from xgboost import XGBClassifier\n",
    "from sklearn.metrics import roc_auc_score\n",
    "from sklearn.metrics import roc_curve\n",
    "from imblearn.over_sampling import SMOTE\n"
   ]
  },
  {
   "cell_type": "code",
   "execution_count": 4,
   "metadata": {},
   "outputs": [],
   "source": [
    "train=pd.read_csv('train_churn.csv')\n",
    "test=pd.read_csv('test_churn.csv')\n",
    "ss=pd.read_csv('sub_churn.csv')"
   ]
  },
  {
   "cell_type": "code",
   "execution_count": 5,
   "metadata": {},
   "outputs": [
    {
     "data": {
      "text/html": [
       "<div>\n",
       "<style scoped>\n",
       "    .dataframe tbody tr th:only-of-type {\n",
       "        vertical-align: middle;\n",
       "    }\n",
       "\n",
       "    .dataframe tbody tr th {\n",
       "        vertical-align: top;\n",
       "    }\n",
       "\n",
       "    .dataframe thead th {\n",
       "        text-align: right;\n",
       "    }\n",
       "</style>\n",
       "<table border=\"1\" class=\"dataframe\">\n",
       "  <thead>\n",
       "    <tr style=\"text-align: right;\">\n",
       "      <th></th>\n",
       "      <th>ID</th>\n",
       "      <th>Age</th>\n",
       "      <th>Gender</th>\n",
       "      <th>Income</th>\n",
       "      <th>Balance</th>\n",
       "      <th>Vintage</th>\n",
       "      <th>Transaction_Status</th>\n",
       "      <th>Product_Holdings</th>\n",
       "      <th>Credit_Card</th>\n",
       "      <th>Credit_Category</th>\n",
       "      <th>Is_Churn</th>\n",
       "    </tr>\n",
       "  </thead>\n",
       "  <tbody>\n",
       "    <tr>\n",
       "      <th>0</th>\n",
       "      <td>84e2fcc9</td>\n",
       "      <td>36</td>\n",
       "      <td>Female</td>\n",
       "      <td>5L - 10L</td>\n",
       "      <td>563266.44</td>\n",
       "      <td>4</td>\n",
       "      <td>0</td>\n",
       "      <td>1</td>\n",
       "      <td>0</td>\n",
       "      <td>Average</td>\n",
       "      <td>1</td>\n",
       "    </tr>\n",
       "    <tr>\n",
       "      <th>1</th>\n",
       "      <td>57fea15e</td>\n",
       "      <td>53</td>\n",
       "      <td>Female</td>\n",
       "      <td>Less than 5L</td>\n",
       "      <td>875572.11</td>\n",
       "      <td>2</td>\n",
       "      <td>1</td>\n",
       "      <td>1</td>\n",
       "      <td>1</td>\n",
       "      <td>Poor</td>\n",
       "      <td>0</td>\n",
       "    </tr>\n",
       "    <tr>\n",
       "      <th>2</th>\n",
       "      <td>8df34ef3</td>\n",
       "      <td>35</td>\n",
       "      <td>Female</td>\n",
       "      <td>More than 15L</td>\n",
       "      <td>701607.06</td>\n",
       "      <td>2</td>\n",
       "      <td>1</td>\n",
       "      <td>2</td>\n",
       "      <td>0</td>\n",
       "      <td>Poor</td>\n",
       "      <td>0</td>\n",
       "    </tr>\n",
       "    <tr>\n",
       "      <th>3</th>\n",
       "      <td>c5c0788b</td>\n",
       "      <td>43</td>\n",
       "      <td>Female</td>\n",
       "      <td>More than 15L</td>\n",
       "      <td>1393922.16</td>\n",
       "      <td>0</td>\n",
       "      <td>1</td>\n",
       "      <td>2</td>\n",
       "      <td>1</td>\n",
       "      <td>Poor</td>\n",
       "      <td>1</td>\n",
       "    </tr>\n",
       "    <tr>\n",
       "      <th>4</th>\n",
       "      <td>951d69c4</td>\n",
       "      <td>39</td>\n",
       "      <td>Female</td>\n",
       "      <td>More than 15L</td>\n",
       "      <td>893146.23</td>\n",
       "      <td>1</td>\n",
       "      <td>1</td>\n",
       "      <td>1</td>\n",
       "      <td>1</td>\n",
       "      <td>Good</td>\n",
       "      <td>1</td>\n",
       "    </tr>\n",
       "  </tbody>\n",
       "</table>\n",
       "</div>"
      ],
      "text/plain": [
       "         ID  Age  Gender         Income     Balance  Vintage  \\\n",
       "0  84e2fcc9   36  Female       5L - 10L   563266.44        4   \n",
       "1  57fea15e   53  Female   Less than 5L   875572.11        2   \n",
       "2  8df34ef3   35  Female  More than 15L   701607.06        2   \n",
       "3  c5c0788b   43  Female  More than 15L  1393922.16        0   \n",
       "4  951d69c4   39  Female  More than 15L   893146.23        1   \n",
       "\n",
       "   Transaction_Status Product_Holdings  Credit_Card Credit_Category  Is_Churn  \n",
       "0                   0                1            0         Average         1  \n",
       "1                   1                1            1            Poor         0  \n",
       "2                   1                2            0            Poor         0  \n",
       "3                   1                2            1            Poor         1  \n",
       "4                   1                1            1            Good         1  "
      ]
     },
     "execution_count": 5,
     "metadata": {},
     "output_type": "execute_result"
    }
   ],
   "source": [
    "train.head()"
   ]
  },
  {
   "cell_type": "code",
   "execution_count": 6,
   "metadata": {},
   "outputs": [
    {
     "data": {
      "text/html": [
       "<div>\n",
       "<style scoped>\n",
       "    .dataframe tbody tr th:only-of-type {\n",
       "        vertical-align: middle;\n",
       "    }\n",
       "\n",
       "    .dataframe tbody tr th {\n",
       "        vertical-align: top;\n",
       "    }\n",
       "\n",
       "    .dataframe thead th {\n",
       "        text-align: right;\n",
       "    }\n",
       "</style>\n",
       "<table border=\"1\" class=\"dataframe\">\n",
       "  <thead>\n",
       "    <tr style=\"text-align: right;\">\n",
       "      <th></th>\n",
       "      <th>ID</th>\n",
       "      <th>Age</th>\n",
       "      <th>Gender</th>\n",
       "      <th>Income</th>\n",
       "      <th>Balance</th>\n",
       "      <th>Vintage</th>\n",
       "      <th>Transaction_Status</th>\n",
       "      <th>Product_Holdings</th>\n",
       "      <th>Credit_Card</th>\n",
       "      <th>Credit_Category</th>\n",
       "    </tr>\n",
       "  </thead>\n",
       "  <tbody>\n",
       "    <tr>\n",
       "      <th>0</th>\n",
       "      <td>55480787</td>\n",
       "      <td>50</td>\n",
       "      <td>Female</td>\n",
       "      <td>More than 15L</td>\n",
       "      <td>1008636.39</td>\n",
       "      <td>2</td>\n",
       "      <td>1</td>\n",
       "      <td>2</td>\n",
       "      <td>1</td>\n",
       "      <td>Average</td>\n",
       "    </tr>\n",
       "    <tr>\n",
       "      <th>1</th>\n",
       "      <td>9aededf2</td>\n",
       "      <td>36</td>\n",
       "      <td>Male</td>\n",
       "      <td>5L - 10L</td>\n",
       "      <td>341460.72</td>\n",
       "      <td>2</td>\n",
       "      <td>0</td>\n",
       "      <td>2</td>\n",
       "      <td>1</td>\n",
       "      <td>Average</td>\n",
       "    </tr>\n",
       "    <tr>\n",
       "      <th>2</th>\n",
       "      <td>a5034a09</td>\n",
       "      <td>25</td>\n",
       "      <td>Female</td>\n",
       "      <td>10L - 15L</td>\n",
       "      <td>439460.10</td>\n",
       "      <td>0</td>\n",
       "      <td>0</td>\n",
       "      <td>2</td>\n",
       "      <td>1</td>\n",
       "      <td>Good</td>\n",
       "    </tr>\n",
       "    <tr>\n",
       "      <th>3</th>\n",
       "      <td>b3256702</td>\n",
       "      <td>41</td>\n",
       "      <td>Male</td>\n",
       "      <td>Less than 5L</td>\n",
       "      <td>28581.93</td>\n",
       "      <td>0</td>\n",
       "      <td>1</td>\n",
       "      <td>2</td>\n",
       "      <td>1</td>\n",
       "      <td>Poor</td>\n",
       "    </tr>\n",
       "    <tr>\n",
       "      <th>4</th>\n",
       "      <td>dc28adb5</td>\n",
       "      <td>48</td>\n",
       "      <td>Male</td>\n",
       "      <td>More than 15L</td>\n",
       "      <td>1104540.03</td>\n",
       "      <td>2</td>\n",
       "      <td>1</td>\n",
       "      <td>3+</td>\n",
       "      <td>0</td>\n",
       "      <td>Good</td>\n",
       "    </tr>\n",
       "  </tbody>\n",
       "</table>\n",
       "</div>"
      ],
      "text/plain": [
       "         ID  Age  Gender         Income     Balance  Vintage  \\\n",
       "0  55480787   50  Female  More than 15L  1008636.39        2   \n",
       "1  9aededf2   36    Male       5L - 10L   341460.72        2   \n",
       "2  a5034a09   25  Female      10L - 15L   439460.10        0   \n",
       "3  b3256702   41    Male   Less than 5L    28581.93        0   \n",
       "4  dc28adb5   48    Male  More than 15L  1104540.03        2   \n",
       "\n",
       "   Transaction_Status Product_Holdings  Credit_Card Credit_Category  \n",
       "0                   1                2            1         Average  \n",
       "1                   0                2            1         Average  \n",
       "2                   0                2            1            Good  \n",
       "3                   1                2            1            Poor  \n",
       "4                   1               3+            0            Good  "
      ]
     },
     "execution_count": 6,
     "metadata": {},
     "output_type": "execute_result"
    }
   ],
   "source": [
    "test.head()"
   ]
  },
  {
   "cell_type": "code",
   "execution_count": 7,
   "metadata": {},
   "outputs": [
    {
     "name": "stdout",
     "output_type": "stream",
     "text": [
      "<class 'pandas.core.frame.DataFrame'>\n",
      "RangeIndex: 6650 entries, 0 to 6649\n",
      "Data columns (total 11 columns):\n",
      " #   Column              Non-Null Count  Dtype  \n",
      "---  ------              --------------  -----  \n",
      " 0   ID                  6650 non-null   object \n",
      " 1   Age                 6650 non-null   int64  \n",
      " 2   Gender              6650 non-null   object \n",
      " 3   Income              6650 non-null   object \n",
      " 4   Balance             6650 non-null   float64\n",
      " 5   Vintage             6650 non-null   int64  \n",
      " 6   Transaction_Status  6650 non-null   int64  \n",
      " 7   Product_Holdings    6650 non-null   object \n",
      " 8   Credit_Card         6650 non-null   int64  \n",
      " 9   Credit_Category     6650 non-null   object \n",
      " 10  Is_Churn            6650 non-null   int64  \n",
      "dtypes: float64(1), int64(5), object(5)\n",
      "memory usage: 571.6+ KB\n"
     ]
    }
   ],
   "source": [
    "train.info()"
   ]
  },
  {
   "cell_type": "code",
   "execution_count": 8,
   "metadata": {},
   "outputs": [
    {
     "name": "stdout",
     "output_type": "stream",
     "text": [
      "<class 'pandas.core.frame.DataFrame'>\n",
      "RangeIndex: 2851 entries, 0 to 2850\n",
      "Data columns (total 10 columns):\n",
      " #   Column              Non-Null Count  Dtype  \n",
      "---  ------              --------------  -----  \n",
      " 0   ID                  2851 non-null   object \n",
      " 1   Age                 2851 non-null   int64  \n",
      " 2   Gender              2851 non-null   object \n",
      " 3   Income              2851 non-null   object \n",
      " 4   Balance             2851 non-null   float64\n",
      " 5   Vintage             2851 non-null   int64  \n",
      " 6   Transaction_Status  2851 non-null   int64  \n",
      " 7   Product_Holdings    2851 non-null   object \n",
      " 8   Credit_Card         2851 non-null   int64  \n",
      " 9   Credit_Category     2851 non-null   object \n",
      "dtypes: float64(1), int64(4), object(5)\n",
      "memory usage: 222.9+ KB\n"
     ]
    }
   ],
   "source": [
    "test.info()"
   ]
  },
  {
   "cell_type": "code",
   "execution_count": 9,
   "metadata": {
    "scrolled": true
   },
   "outputs": [
    {
     "data": {
      "text/plain": [
       "ID                    0\n",
       "Age                   0\n",
       "Gender                0\n",
       "Income                0\n",
       "Balance               0\n",
       "Vintage               0\n",
       "Transaction_Status    0\n",
       "Product_Holdings      0\n",
       "Credit_Card           0\n",
       "Credit_Category       0\n",
       "Is_Churn              0\n",
       "dtype: int64"
      ]
     },
     "execution_count": 9,
     "metadata": {},
     "output_type": "execute_result"
    }
   ],
   "source": [
    "# To check if there are any missing values\n",
    "train.isnull().sum()"
   ]
  },
  {
   "cell_type": "code",
   "execution_count": 10,
   "metadata": {},
   "outputs": [
    {
     "data": {
      "text/plain": [
       "0"
      ]
     },
     "execution_count": 10,
     "metadata": {},
     "output_type": "execute_result"
    }
   ],
   "source": [
    "#Check if there are any duplicate values\n",
    "train.duplicated().sum()"
   ]
  },
  {
   "cell_type": "code",
   "execution_count": 11,
   "metadata": {},
   "outputs": [],
   "source": [
    "ID_COL, TARGET_COL = 'ID', 'Is_Churn'\n",
    "features = [c for c in train.columns if c not in [ID_COL, TARGET_COL]]\n"
   ]
  },
  {
   "cell_type": "code",
   "execution_count": 12,
   "metadata": {},
   "outputs": [],
   "source": [
    "df_train=train.copy()\n",
    "df_test=test.copy()"
   ]
  },
  {
   "cell_type": "code",
   "execution_count": 13,
   "metadata": {},
   "outputs": [],
   "source": [
    "cat_cols = [x for x in train.dtypes.index if train.dtypes[x]=='object']\n"
   ]
  },
  {
   "cell_type": "code",
   "execution_count": 14,
   "metadata": {},
   "outputs": [
    {
     "data": {
      "text/plain": [
       "['ID', 'Gender', 'Income', 'Product_Holdings', 'Credit_Category']"
      ]
     },
     "execution_count": 14,
     "metadata": {},
     "output_type": "execute_result"
    }
   ],
   "source": [
    "\n",
    "cat_cols"
   ]
  },
  {
   "cell_type": "code",
   "execution_count": 15,
   "metadata": {},
   "outputs": [],
   "source": [
    "cat_cols.remove('ID')"
   ]
  },
  {
   "cell_type": "code",
   "execution_count": 16,
   "metadata": {},
   "outputs": [
    {
     "data": {
      "text/plain": [
       "['Gender', 'Income', 'Product_Holdings', 'Credit_Category']"
      ]
     },
     "execution_count": 16,
     "metadata": {},
     "output_type": "execute_result"
    }
   ],
   "source": [
    "\n",
    "cat_cols"
   ]
  },
  {
   "cell_type": "code",
   "execution_count": 17,
   "metadata": {},
   "outputs": [],
   "source": [
    "num_cols = [c for c in features if c not in cat_cols]"
   ]
  },
  {
   "cell_type": "code",
   "execution_count": 18,
   "metadata": {},
   "outputs": [
    {
     "data": {
      "text/plain": [
       "['Age', 'Balance', 'Vintage', 'Transaction_Status', 'Credit_Card']"
      ]
     },
     "execution_count": 18,
     "metadata": {},
     "output_type": "execute_result"
    }
   ],
   "source": [
    "num_cols"
   ]
  },
  {
   "cell_type": "code",
   "execution_count": 19,
   "metadata": {},
   "outputs": [
    {
     "name": "stdout",
     "output_type": "stream",
     "text": [
      "Checking Data distribution for Train! \n",
      "\n",
      "Distinct entries in train Age:52\n",
      "Distinct entries in test Age:52\n",
      "common number of Age entries in test and train:52\n",
      "Distinct entries in train Gender:2\n",
      "Distinct entries in test Gender:2\n",
      "common number of Gender entries in test and train:2\n",
      "Distinct entries in train Income:4\n",
      "Distinct entries in test Income:4\n",
      "common number of Income entries in test and train:4\n",
      "Distinct entries in train Balance:6643\n",
      "Distinct entries in test Balance:2847\n",
      "common number of Balance entries in test and train:16\n",
      "Distinct entries in train Vintage:6\n",
      "Distinct entries in test Vintage:6\n",
      "common number of Vintage entries in test and train:6\n",
      "Distinct entries in train Transaction_Status:2\n",
      "Distinct entries in test Transaction_Status:2\n",
      "common number of Transaction_Status entries in test and train:2\n",
      "Distinct entries in train Product_Holdings:3\n",
      "Distinct entries in test Product_Holdings:3\n",
      "common number of Product_Holdings entries in test and train:3\n",
      "Distinct entries in train Credit_Card:2\n",
      "Distinct entries in test Credit_Card:2\n",
      "common number of Credit_Card entries in test and train:2\n",
      "Distinct entries in train Credit_Category:3\n",
      "Distinct entries in test Credit_Category:3\n",
      "common number of Credit_Category entries in test and train:3\n"
     ]
    }
   ],
   "source": [
    "print('Checking Data distribution for Train! \\n')\n",
    "for col in features:\n",
    "    print(f'Distinct entries in train {col}:{train[col].nunique()}')\n",
    "    print(f'Distinct entries in test {col}:{test[col].nunique()}')\n",
    "    print(f'common number of {col} entries in test and train:{len(np.intersect1d(train[col].unique(),test[col].unique()))}')"
   ]
  },
  {
   "cell_type": "code",
   "execution_count": 20,
   "metadata": {},
   "outputs": [
    {
     "name": "stdout",
     "output_type": "stream",
     "text": [
      "value counts of  Gender is:\n",
      "Male      3612\n",
      "Female    3038\n",
      "Name: Gender, dtype: int64\n",
      "\n",
      "Unique values of Gender is: ['Female' 'Male']\n",
      "\n",
      "value counts of  Income is:\n",
      "10L - 15L        1885\n",
      "5L - 10L         1847\n",
      "Less than 5L     1573\n",
      "More than 15L    1345\n",
      "Name: Income, dtype: int64\n",
      "\n",
      "Unique values of Income is: ['5L - 10L' 'Less than 5L' 'More than 15L' '10L - 15L']\n",
      "\n",
      "value counts of  Product_Holdings is:\n",
      "1     3200\n",
      "2     3182\n",
      "3+     268\n",
      "Name: Product_Holdings, dtype: int64\n",
      "\n",
      "Unique values of Product_Holdings is: ['1' '2' '3+']\n",
      "\n",
      "value counts of  Credit_Category is:\n",
      "Poor       3076\n",
      "Average    2043\n",
      "Good       1531\n",
      "Name: Credit_Category, dtype: int64\n",
      "\n",
      "Unique values of Credit_Category is: ['Average' 'Poor' 'Good']\n",
      "\n"
     ]
    }
   ],
   "source": [
    "#Lets take a look at the categorical columns\n",
    "for i in cat_cols:\n",
    "    print(\"value counts of \",i,\"is:\")\n",
    "    print(df_train[i].value_counts())\n",
    "    print()\n",
    "    print('Unique values of',i,'is:',df_train[i].unique())\n",
    "    print()\n"
   ]
  },
  {
   "cell_type": "code",
   "execution_count": 21,
   "metadata": {},
   "outputs": [
    {
     "data": {
      "image/png": "[encoded data removed]",
      "text/plain": [
       "<Figure size 1080x864 with 6 Axes>"
      ]
     },
     "metadata": {
      "needs_background": "light"
     },
     "output_type": "display_data"
    }
   ],
   "source": [
    "train.hist(figsize=(15,12));"
   ]
  },
  {
   "cell_type": "code",
   "execution_count": 22,
   "metadata": {},
   "outputs": [
    {
     "data": {
      "image/png": "[encoded data removed]",
      "text/plain": [
       "<Figure size 1080x864 with 6 Axes>"
      ]
     },
     "metadata": {
      "needs_background": "light"
     },
     "output_type": "display_data"
    }
   ],
   "source": [
    "test.hist(figsize=(15,12));"
   ]
  },
  {
   "cell_type": "code",
   "execution_count": 23,
   "metadata": {},
   "outputs": [
    {
     "data": {
      "image/png": "[encoded data removed]",
      "text/plain": [
       "<Figure size 1008x864 with 5 Axes>"
      ]
     },
     "metadata": {
      "needs_background": "light"
     },
     "output_type": "display_data"
    }
   ],
   "source": [
    "\n",
    "#Lets check boxplot distribution of numerical columns\n",
    "fig,axes=plt.subplots(5,1,figsize=(14,12))\n",
    "for i,c in enumerate(num_cols):\n",
    "    _=train[[c]].boxplot(ax=axes[i],vert=False)"
   ]
  },
  {
   "cell_type": "markdown",
   "metadata": {},
   "source": [
    "Age and Balance column have some outliers"
   ]
  },
  {
   "cell_type": "code",
   "execution_count": 24,
   "metadata": {},
   "outputs": [
    {
     "data": {
      "text/html": [
       "<div>\n",
       "<style scoped>\n",
       "    .dataframe tbody tr th:only-of-type {\n",
       "        vertical-align: middle;\n",
       "    }\n",
       "\n",
       "    .dataframe tbody tr th {\n",
       "        vertical-align: top;\n",
       "    }\n",
       "\n",
       "    .dataframe thead th {\n",
       "        text-align: right;\n",
       "    }\n",
       "</style>\n",
       "<table border=\"1\" class=\"dataframe\">\n",
       "  <thead>\n",
       "    <tr style=\"text-align: right;\">\n",
       "      <th></th>\n",
       "      <th>Age</th>\n",
       "      <th>Balance</th>\n",
       "      <th>Vintage</th>\n",
       "      <th>Transaction_Status</th>\n",
       "      <th>Credit_Card</th>\n",
       "      <th>Is_Churn</th>\n",
       "    </tr>\n",
       "  </thead>\n",
       "  <tbody>\n",
       "    <tr>\n",
       "      <th>count</th>\n",
       "      <td>6650.000000</td>\n",
       "      <td>6.650000e+03</td>\n",
       "      <td>6650.000000</td>\n",
       "      <td>6650.000000</td>\n",
       "      <td>6650.000000</td>\n",
       "      <td>6650.000000</td>\n",
       "    </tr>\n",
       "    <tr>\n",
       "      <th>mean</th>\n",
       "      <td>41.130226</td>\n",
       "      <td>8.045954e+05</td>\n",
       "      <td>2.250226</td>\n",
       "      <td>0.515789</td>\n",
       "      <td>0.664361</td>\n",
       "      <td>0.231128</td>\n",
       "    </tr>\n",
       "    <tr>\n",
       "      <th>std</th>\n",
       "      <td>9.685747</td>\n",
       "      <td>5.157549e+05</td>\n",
       "      <td>1.458795</td>\n",
       "      <td>0.499788</td>\n",
       "      <td>0.472249</td>\n",
       "      <td>0.421586</td>\n",
       "    </tr>\n",
       "    <tr>\n",
       "      <th>min</th>\n",
       "      <td>21.000000</td>\n",
       "      <td>6.300000e+01</td>\n",
       "      <td>0.000000</td>\n",
       "      <td>0.000000</td>\n",
       "      <td>0.000000</td>\n",
       "      <td>0.000000</td>\n",
       "    </tr>\n",
       "    <tr>\n",
       "      <th>25%</th>\n",
       "      <td>34.000000</td>\n",
       "      <td>3.922642e+05</td>\n",
       "      <td>1.000000</td>\n",
       "      <td>0.000000</td>\n",
       "      <td>0.000000</td>\n",
       "      <td>0.000000</td>\n",
       "    </tr>\n",
       "    <tr>\n",
       "      <th>50%</th>\n",
       "      <td>40.000000</td>\n",
       "      <td>7.649386e+05</td>\n",
       "      <td>2.000000</td>\n",
       "      <td>1.000000</td>\n",
       "      <td>1.000000</td>\n",
       "      <td>0.000000</td>\n",
       "    </tr>\n",
       "    <tr>\n",
       "      <th>75%</th>\n",
       "      <td>47.000000</td>\n",
       "      <td>1.147124e+06</td>\n",
       "      <td>3.000000</td>\n",
       "      <td>1.000000</td>\n",
       "      <td>1.000000</td>\n",
       "      <td>0.000000</td>\n",
       "    </tr>\n",
       "    <tr>\n",
       "      <th>max</th>\n",
       "      <td>72.000000</td>\n",
       "      <td>2.436616e+06</td>\n",
       "      <td>5.000000</td>\n",
       "      <td>1.000000</td>\n",
       "      <td>1.000000</td>\n",
       "      <td>1.000000</td>\n",
       "    </tr>\n",
       "  </tbody>\n",
       "</table>\n",
       "</div>"
      ],
      "text/plain": [
       "               Age       Balance      Vintage  Transaction_Status  \\\n",
       "count  6650.000000  6.650000e+03  6650.000000         6650.000000   \n",
       "mean     41.130226  8.045954e+05     2.250226            0.515789   \n",
       "std       9.685747  5.157549e+05     1.458795            0.499788   \n",
       "min      21.000000  6.300000e+01     0.000000            0.000000   \n",
       "25%      34.000000  3.922642e+05     1.000000            0.000000   \n",
       "50%      40.000000  7.649386e+05     2.000000            1.000000   \n",
       "75%      47.000000  1.147124e+06     3.000000            1.000000   \n",
       "max      72.000000  2.436616e+06     5.000000            1.000000   \n",
       "\n",
       "       Credit_Card     Is_Churn  \n",
       "count  6650.000000  6650.000000  \n",
       "mean      0.664361     0.231128  \n",
       "std       0.472249     0.421586  \n",
       "min       0.000000     0.000000  \n",
       "25%       0.000000     0.000000  \n",
       "50%       1.000000     0.000000  \n",
       "75%       1.000000     0.000000  \n",
       "max       1.000000     1.000000  "
      ]
     },
     "execution_count": 24,
     "metadata": {},
     "output_type": "execute_result"
    }
   ],
   "source": [
    "train.describe()"
   ]
  },
  {
   "cell_type": "code",
   "execution_count": 25,
   "metadata": {},
   "outputs": [
    {
     "data": {
      "image/png": "[encoded data removed]",
      "text/plain": [
       "<Figure size 1440x1152 with 6 Axes>"
      ]
     },
     "metadata": {},
     "output_type": "display_data"
    }
   ],
   "source": [
    "fig,axes=plt.subplots(6,1,figsize=(20,16))\n",
    "for i,c in enumerate(cat_cols+['Vintage','Credit_Card']):\n",
    "    _=train[c].value_counts()[::-1].plot(kind='pie',ax=axes[i],title=c,autopct='%.0f')\n",
    "    _=axes[i].set_ylabel('')\n",
    "plt.tight_layout()\n"
   ]
  },
  {
   "cell_type": "code",
   "execution_count": 26,
   "metadata": {},
   "outputs": [
    {
     "data": {
      "text/plain": [
       "0    5113\n",
       "1    1537\n",
       "Name: Is_Churn, dtype: int64"
      ]
     },
     "execution_count": 26,
     "metadata": {},
     "output_type": "execute_result"
    }
   ],
   "source": [
    "train['Is_Churn'].value_counts()"
   ]
  },
  {
   "cell_type": "markdown",
   "metadata": {},
   "source": [
    "#### Bivariate analysis "
   ]
  },
  {
   "cell_type": "code",
   "execution_count": 27,
   "metadata": {},
   "outputs": [
    {
     "data": {
      "image/png": "[encoded data removed]",
      "text/plain": [
       "<Figure size 864x1080 with 6 Axes>"
      ]
     },
     "metadata": {
      "needs_background": "light"
     },
     "output_type": "display_data"
    }
   ],
   "source": [
    "fig,axes=plt.subplots(3,2,figsize=(12,15))\n",
    "for idx,cat_col in enumerate(cat_cols+['Vintage','Credit_Card']):\n",
    "    row,col=idx//2,idx%2\n",
    "    sns.countplot(x=cat_col,data=df_train,hue='Is_Churn',ax=axes[row,col])\n",
    "plt.subplots_adjust(hspace=1)"
   ]
  },
  {
   "cell_type": "code",
   "execution_count": 28,
   "metadata": {},
   "outputs": [],
   "source": [
    "credit=pd.crosstab(df_train['Credit_Category'],df_train['Is_Churn'])\n"
   ]
  },
  {
   "cell_type": "code",
   "execution_count": 29,
   "metadata": {},
   "outputs": [
    {
     "data": {
      "text/plain": [
       "<matplotlib.legend.Legend at 0x2f4c8477c08>"
      ]
     },
     "execution_count": 29,
     "metadata": {},
     "output_type": "execute_result"
    },
    {
     "data": {
      "image/png": "[encoded data removed]",
      "text/plain": [
       "<Figure size 288x288 with 1 Axes>"
      ]
     },
     "metadata": {
      "needs_background": "light"
     },
     "output_type": "display_data"
    }
   ],
   "source": [
    "credit.div(credit.sum(1).astype(float),axis=0).plot(kind='bar',stacked=True,figsize=(4,4))\n",
    "plt.legend(bbox_to_anchor=(1.05,1),title='Loan_Status')\n"
   ]
  },
  {
   "cell_type": "code",
   "execution_count": 30,
   "metadata": {
    "scrolled": true
   },
   "outputs": [
    {
     "data": {
      "image/png": "[encoded data removed]",
      "text/plain": [
       "<Figure size 432x288 with 1 Axes>"
      ]
     },
     "metadata": {},
     "output_type": "display_data"
    }
   ],
   "source": [
    "# Checking skewness of the Balance column\n",
    "\n",
    "sns.set_style('whitegrid')\n",
    "sns.kdeplot(train['Balance'], bw=0.5)\n",
    "plt.show()\n"
   ]
  },
  {
   "cell_type": "code",
   "execution_count": 31,
   "metadata": {},
   "outputs": [
    {
     "data": {
      "image/png": "[encoded data removed]",
      "text/plain": [
       "<Figure size 432x288 with 1 Axes>"
      ]
     },
     "metadata": {},
     "output_type": "display_data"
    }
   ],
   "source": [
    "# Checking skewness of the Age column\n",
    "\n",
    "sns.set_style('whitegrid')\n",
    "sns.kdeplot(train['Age'], bw=0.5)\n",
    "plt.show()\n"
   ]
  },
  {
   "cell_type": "code",
   "execution_count": 32,
   "metadata": {},
   "outputs": [
    {
     "data": {
      "text/html": [
       "<div>\n",
       "<style scoped>\n",
       "    .dataframe tbody tr th:only-of-type {\n",
       "        vertical-align: middle;\n",
       "    }\n",
       "\n",
       "    .dataframe tbody tr th {\n",
       "        vertical-align: top;\n",
       "    }\n",
       "\n",
       "    .dataframe thead th {\n",
       "        text-align: right;\n",
       "    }\n",
       "</style>\n",
       "<table border=\"1\" class=\"dataframe\">\n",
       "  <thead>\n",
       "    <tr style=\"text-align: right;\">\n",
       "      <th></th>\n",
       "      <th>Age</th>\n",
       "    </tr>\n",
       "  </thead>\n",
       "  <tbody>\n",
       "    <tr>\n",
       "      <th>count</th>\n",
       "      <td>6650.000000</td>\n",
       "    </tr>\n",
       "    <tr>\n",
       "      <th>mean</th>\n",
       "      <td>41.130226</td>\n",
       "    </tr>\n",
       "    <tr>\n",
       "      <th>std</th>\n",
       "      <td>9.685747</td>\n",
       "    </tr>\n",
       "    <tr>\n",
       "      <th>min</th>\n",
       "      <td>21.000000</td>\n",
       "    </tr>\n",
       "    <tr>\n",
       "      <th>1%</th>\n",
       "      <td>24.000000</td>\n",
       "    </tr>\n",
       "    <tr>\n",
       "      <th>10%</th>\n",
       "      <td>29.000000</td>\n",
       "    </tr>\n",
       "    <tr>\n",
       "      <th>25%</th>\n",
       "      <td>34.000000</td>\n",
       "    </tr>\n",
       "    <tr>\n",
       "      <th>50%</th>\n",
       "      <td>40.000000</td>\n",
       "    </tr>\n",
       "    <tr>\n",
       "      <th>75%</th>\n",
       "      <td>47.000000</td>\n",
       "    </tr>\n",
       "    <tr>\n",
       "      <th>90%</th>\n",
       "      <td>55.000000</td>\n",
       "    </tr>\n",
       "    <tr>\n",
       "      <th>99%</th>\n",
       "      <td>66.000000</td>\n",
       "    </tr>\n",
       "    <tr>\n",
       "      <th>100%</th>\n",
       "      <td>72.000000</td>\n",
       "    </tr>\n",
       "    <tr>\n",
       "      <th>max</th>\n",
       "      <td>72.000000</td>\n",
       "    </tr>\n",
       "  </tbody>\n",
       "</table>\n",
       "</div>"
      ],
      "text/plain": [
       "               Age\n",
       "count  6650.000000\n",
       "mean     41.130226\n",
       "std       9.685747\n",
       "min      21.000000\n",
       "1%       24.000000\n",
       "10%      29.000000\n",
       "25%      34.000000\n",
       "50%      40.000000\n",
       "75%      47.000000\n",
       "90%      55.000000\n",
       "99%      66.000000\n",
       "100%     72.000000\n",
       "max      72.000000"
      ]
     },
     "execution_count": 32,
     "metadata": {},
     "output_type": "execute_result"
    }
   ],
   "source": [
    "#Distribution of Age column\n",
    "pd.DataFrame(train['Age'].describe(percentiles=(1,0.99,0.9,0.75,0.5,0.25,0.1,0.01)))"
   ]
  },
  {
   "cell_type": "code",
   "execution_count": 33,
   "metadata": {},
   "outputs": [
    {
     "data": {
      "text/html": [
       "<div>\n",
       "<style scoped>\n",
       "    .dataframe tbody tr th:only-of-type {\n",
       "        vertical-align: middle;\n",
       "    }\n",
       "\n",
       "    .dataframe tbody tr th {\n",
       "        vertical-align: top;\n",
       "    }\n",
       "\n",
       "    .dataframe thead th {\n",
       "        text-align: right;\n",
       "    }\n",
       "</style>\n",
       "<table border=\"1\" class=\"dataframe\">\n",
       "  <thead>\n",
       "    <tr style=\"text-align: right;\">\n",
       "      <th></th>\n",
       "      <th>Balance</th>\n",
       "    </tr>\n",
       "  </thead>\n",
       "  <tbody>\n",
       "    <tr>\n",
       "      <th>count</th>\n",
       "      <td>6.650000e+03</td>\n",
       "    </tr>\n",
       "    <tr>\n",
       "      <th>mean</th>\n",
       "      <td>8.045954e+05</td>\n",
       "    </tr>\n",
       "    <tr>\n",
       "      <th>std</th>\n",
       "      <td>5.157549e+05</td>\n",
       "    </tr>\n",
       "    <tr>\n",
       "      <th>min</th>\n",
       "      <td>6.300000e+01</td>\n",
       "    </tr>\n",
       "    <tr>\n",
       "      <th>1%</th>\n",
       "      <td>1.371933e+04</td>\n",
       "    </tr>\n",
       "    <tr>\n",
       "      <th>10%</th>\n",
       "      <td>1.298474e+05</td>\n",
       "    </tr>\n",
       "    <tr>\n",
       "      <th>25%</th>\n",
       "      <td>3.922642e+05</td>\n",
       "    </tr>\n",
       "    <tr>\n",
       "      <th>50%</th>\n",
       "      <td>7.649386e+05</td>\n",
       "    </tr>\n",
       "    <tr>\n",
       "      <th>75%</th>\n",
       "      <td>1.147124e+06</td>\n",
       "    </tr>\n",
       "    <tr>\n",
       "      <th>90%</th>\n",
       "      <td>1.511155e+06</td>\n",
       "    </tr>\n",
       "    <tr>\n",
       "      <th>99%</th>\n",
       "      <td>2.154397e+06</td>\n",
       "    </tr>\n",
       "    <tr>\n",
       "      <th>100%</th>\n",
       "      <td>2.436616e+06</td>\n",
       "    </tr>\n",
       "    <tr>\n",
       "      <th>max</th>\n",
       "      <td>2.436616e+06</td>\n",
       "    </tr>\n",
       "  </tbody>\n",
       "</table>\n",
       "</div>"
      ],
      "text/plain": [
       "            Balance\n",
       "count  6.650000e+03\n",
       "mean   8.045954e+05\n",
       "std    5.157549e+05\n",
       "min    6.300000e+01\n",
       "1%     1.371933e+04\n",
       "10%    1.298474e+05\n",
       "25%    3.922642e+05\n",
       "50%    7.649386e+05\n",
       "75%    1.147124e+06\n",
       "90%    1.511155e+06\n",
       "99%    2.154397e+06\n",
       "100%   2.436616e+06\n",
       "max    2.436616e+06"
      ]
     },
     "execution_count": 33,
     "metadata": {},
     "output_type": "execute_result"
    }
   ],
   "source": [
    "#Distribution of Balance\n",
    "pd.DataFrame(train['Balance'].describe(percentiles=(1,0.99,0.9,0.75,0.5,0.25,0.1,0.01)))"
   ]
  },
  {
   "cell_type": "code",
   "execution_count": 34,
   "metadata": {},
   "outputs": [],
   "source": [
    "train['Product_Holdings'].replace('3+',3,inplace=True)\n",
    "test['Product_Holdings'].replace('3+',3,inplace=True)\n"
   ]
  },
  {
   "cell_type": "code",
   "execution_count": 35,
   "metadata": {},
   "outputs": [],
   "source": [
    "train['Product_Holdings']=train['Product_Holdings'].astype('int64')"
   ]
  },
  {
   "cell_type": "code",
   "execution_count": 36,
   "metadata": {},
   "outputs": [],
   "source": [
    "test['Product_Holdings']=test['Product_Holdings'].astype('int64')"
   ]
  },
  {
   "cell_type": "code",
   "execution_count": 37,
   "metadata": {},
   "outputs": [
    {
     "name": "stdout",
     "output_type": "stream",
     "text": [
      "<class 'pandas.core.frame.DataFrame'>\n",
      "RangeIndex: 6650 entries, 0 to 6649\n",
      "Data columns (total 11 columns):\n",
      " #   Column              Non-Null Count  Dtype  \n",
      "---  ------              --------------  -----  \n",
      " 0   ID                  6650 non-null   object \n",
      " 1   Age                 6650 non-null   int64  \n",
      " 2   Gender              6650 non-null   object \n",
      " 3   Income              6650 non-null   object \n",
      " 4   Balance             6650 non-null   float64\n",
      " 5   Vintage             6650 non-null   int64  \n",
      " 6   Transaction_Status  6650 non-null   int64  \n",
      " 7   Product_Holdings    6650 non-null   int64  \n",
      " 8   Credit_Card         6650 non-null   int64  \n",
      " 9   Credit_Category     6650 non-null   object \n",
      " 10  Is_Churn            6650 non-null   int64  \n",
      "dtypes: float64(1), int64(6), object(4)\n",
      "memory usage: 571.6+ KB\n"
     ]
    }
   ],
   "source": [
    "train.info()"
   ]
  },
  {
   "cell_type": "code",
   "execution_count": 38,
   "metadata": {},
   "outputs": [],
   "source": [
    "cat_cols.remove('Product_Holdings')"
   ]
  },
  {
   "cell_type": "code",
   "execution_count": 39,
   "metadata": {},
   "outputs": [
    {
     "data": {
      "text/plain": [
       "['Gender', 'Income', 'Credit_Category']"
      ]
     },
     "execution_count": 39,
     "metadata": {},
     "output_type": "execute_result"
    }
   ],
   "source": [
    "cat_cols"
   ]
  },
  {
   "cell_type": "code",
   "execution_count": 40,
   "metadata": {},
   "outputs": [
    {
     "data": {
      "text/plain": [
       "<matplotlib.axes._subplots.AxesSubplot at 0x2f4c884f608>"
      ]
     },
     "execution_count": 40,
     "metadata": {},
     "output_type": "execute_result"
    },
    {
     "data": {
      "image/png": "[encoded data removed]",
      "text/plain": [
       "<Figure size 1008x576 with 2 Axes>"
      ]
     },
     "metadata": {},
     "output_type": "display_data"
    }
   ],
   "source": [
    "plt.figure(figsize=(14,8))\n",
    "sns.heatmap(train.corr(),annot=True)"
   ]
  },
  {
   "cell_type": "code",
   "execution_count": 41,
   "metadata": {},
   "outputs": [
    {
     "data": {
      "text/plain": [
       "<matplotlib.axes._subplots.AxesSubplot at 0x2f4c2e92bc8>"
      ]
     },
     "execution_count": 41,
     "metadata": {},
     "output_type": "execute_result"
    },
    {
     "data": {
      "image/png": "[encoded data removed]",
      "text/plain": [
       "<Figure size 432x288 with 1 Axes>"
      ]
     },
     "metadata": {},
     "output_type": "display_data"
    }
   ],
   "source": [
    "sns.countplot(train['Is_Churn'],data=train)"
   ]
  },
  {
   "cell_type": "code",
   "execution_count": 42,
   "metadata": {
    "scrolled": false
   },
   "outputs": [
    {
     "data": {
      "text/plain": [
       "Text(0.5, 1.0, 'Age Distribution against churn event')"
      ]
     },
     "execution_count": 42,
     "metadata": {},
     "output_type": "execute_result"
    },
    {
     "data": {
      "image/png": "[encoded data removed]",
      "text/plain": [
       "<Figure size 1152x576 with 2 Axes>"
      ]
     },
     "metadata": {},
     "output_type": "display_data"
    }
   ],
   "source": [
    "fig,ax=plt.subplots(1,2,figsize=(16,8))\n",
    "ax[0].hist(train['Age'],label='customers')\n",
    "ax[0].set_xlabel('Age')\n",
    "ax[0].set_ylabel('No of customers')\n",
    "#ax[0].set_yticks([5,10,15,20,25,30,35,40,45,50,55,60,65,70,75])\n",
    "ax[0].legend()\n",
    "ax[0].set_title('Age Distribution')\n",
    "ax[1].hist(x=[train[train['Is_Churn']==1]['Age'],train[train['Is_Churn']==0]['Age']],stacked=True,label=['Churned','No Churn'])\n",
    "ax[1].set_xlabel('Age')\n",
    "ax[1].set_ylabel('No of customers')\n",
    "#ax[1].set_yticks([5,10,15,20,25,30,35,40,45,50,55,60,65,70,5])\n",
    "ax[1].legend()\n",
    "ax[1].set_title('Age Distribution against churn event')\n"
   ]
  },
  {
   "cell_type": "code",
   "execution_count": 43,
   "metadata": {},
   "outputs": [
    {
     "data": {
      "text/plain": [
       "Text(0.5, 1.0, 'Balance Distribution against churn event')"
      ]
     },
     "execution_count": 43,
     "metadata": {},
     "output_type": "execute_result"
    },
    {
     "data": {
      "image/png": "[encoded data removed]",
      "text/plain": [
       "<Figure size 1152x576 with 2 Axes>"
      ]
     },
     "metadata": {},
     "output_type": "display_data"
    }
   ],
   "source": [
    "fig,ax=plt.subplots(1,2,figsize=(16,8))\n",
    "ax[0].hist(train['Balance'],label='customers')\n",
    "ax[0].set_xlabel('Balance')\n",
    "ax[0].set_ylabel('No of customers')\n",
    "ax[0].legend()\n",
    "ax[0].set_title('Balance Distribution')\n",
    "ax[1].hist(x=[train[train['Is_Churn']==1]['Balance'],train[train['Is_Churn']==0]['Balance']],stacked=True,label=['Churned','No Churn'])\n",
    "ax[1].set_xlabel('Balance')\n",
    "ax[1].set_ylabel('No of customers')\n",
    "ax[1].legend()\n",
    "ax[1].set_title('Balance Distribution against churn event')\n"
   ]
  },
  {
   "cell_type": "markdown",
   "metadata": {},
   "source": [
    "Aged customers tend to churn more"
   ]
  },
  {
   "cell_type": "code",
   "execution_count": 44,
   "metadata": {},
   "outputs": [
    {
     "data": {
      "text/html": [
       "<div>\n",
       "<style scoped>\n",
       "    .dataframe tbody tr th:only-of-type {\n",
       "        vertical-align: middle;\n",
       "    }\n",
       "\n",
       "    .dataframe tbody tr th {\n",
       "        vertical-align: top;\n",
       "    }\n",
       "\n",
       "    .dataframe thead th {\n",
       "        text-align: right;\n",
       "    }\n",
       "</style>\n",
       "<table border=\"1\" class=\"dataframe\">\n",
       "  <thead>\n",
       "    <tr style=\"text-align: right;\">\n",
       "      <th></th>\n",
       "      <th>ID</th>\n",
       "      <th>Age</th>\n",
       "      <th>Gender</th>\n",
       "      <th>Income</th>\n",
       "      <th>Balance</th>\n",
       "      <th>Vintage</th>\n",
       "      <th>Transaction_Status</th>\n",
       "      <th>Product_Holdings</th>\n",
       "      <th>Credit_Card</th>\n",
       "      <th>Credit_Category</th>\n",
       "      <th>Is_Churn</th>\n",
       "    </tr>\n",
       "  </thead>\n",
       "  <tbody>\n",
       "    <tr>\n",
       "      <th>0</th>\n",
       "      <td>84e2fcc9</td>\n",
       "      <td>36</td>\n",
       "      <td>Female</td>\n",
       "      <td>5L - 10L</td>\n",
       "      <td>563266.44</td>\n",
       "      <td>4</td>\n",
       "      <td>0</td>\n",
       "      <td>1</td>\n",
       "      <td>0</td>\n",
       "      <td>Average</td>\n",
       "      <td>1</td>\n",
       "    </tr>\n",
       "    <tr>\n",
       "      <th>1</th>\n",
       "      <td>57fea15e</td>\n",
       "      <td>53</td>\n",
       "      <td>Female</td>\n",
       "      <td>Less than 5L</td>\n",
       "      <td>875572.11</td>\n",
       "      <td>2</td>\n",
       "      <td>1</td>\n",
       "      <td>1</td>\n",
       "      <td>1</td>\n",
       "      <td>Poor</td>\n",
       "      <td>0</td>\n",
       "    </tr>\n",
       "    <tr>\n",
       "      <th>2</th>\n",
       "      <td>8df34ef3</td>\n",
       "      <td>35</td>\n",
       "      <td>Female</td>\n",
       "      <td>More than 15L</td>\n",
       "      <td>701607.06</td>\n",
       "      <td>2</td>\n",
       "      <td>1</td>\n",
       "      <td>2</td>\n",
       "      <td>0</td>\n",
       "      <td>Poor</td>\n",
       "      <td>0</td>\n",
       "    </tr>\n",
       "    <tr>\n",
       "      <th>3</th>\n",
       "      <td>c5c0788b</td>\n",
       "      <td>43</td>\n",
       "      <td>Female</td>\n",
       "      <td>More than 15L</td>\n",
       "      <td>1393922.16</td>\n",
       "      <td>0</td>\n",
       "      <td>1</td>\n",
       "      <td>2</td>\n",
       "      <td>1</td>\n",
       "      <td>Poor</td>\n",
       "      <td>1</td>\n",
       "    </tr>\n",
       "    <tr>\n",
       "      <th>4</th>\n",
       "      <td>951d69c4</td>\n",
       "      <td>39</td>\n",
       "      <td>Female</td>\n",
       "      <td>More than 15L</td>\n",
       "      <td>893146.23</td>\n",
       "      <td>1</td>\n",
       "      <td>1</td>\n",
       "      <td>1</td>\n",
       "      <td>1</td>\n",
       "      <td>Good</td>\n",
       "      <td>1</td>\n",
       "    </tr>\n",
       "  </tbody>\n",
       "</table>\n",
       "</div>"
      ],
      "text/plain": [
       "         ID  Age  Gender         Income     Balance  Vintage  \\\n",
       "0  84e2fcc9   36  Female       5L - 10L   563266.44        4   \n",
       "1  57fea15e   53  Female   Less than 5L   875572.11        2   \n",
       "2  8df34ef3   35  Female  More than 15L   701607.06        2   \n",
       "3  c5c0788b   43  Female  More than 15L  1393922.16        0   \n",
       "4  951d69c4   39  Female  More than 15L   893146.23        1   \n",
       "\n",
       "   Transaction_Status  Product_Holdings  Credit_Card Credit_Category  Is_Churn  \n",
       "0                   0                 1            0         Average         1  \n",
       "1                   1                 1            1            Poor         0  \n",
       "2                   1                 2            0            Poor         0  \n",
       "3                   1                 2            1            Poor         1  \n",
       "4                   1                 1            1            Good         1  "
      ]
     },
     "execution_count": 44,
     "metadata": {},
     "output_type": "execute_result"
    }
   ],
   "source": [
    "train.head()"
   ]
  },
  {
   "cell_type": "code",
   "execution_count": 45,
   "metadata": {},
   "outputs": [],
   "source": [
    "train.Credit_Category.replace('Poor',1,inplace=True)\n",
    "train.Credit_Category.replace('Average',5,inplace=True)\n",
    "train.Credit_Category.replace('Good',10,inplace=True)\n"
   ]
  },
  {
   "cell_type": "code",
   "execution_count": 46,
   "metadata": {},
   "outputs": [],
   "source": [
    "test.Credit_Category.replace('Poor',1,inplace=True)\n",
    "test.Credit_Category.replace('Average',5,inplace=True)\n",
    "test.Credit_Category.replace('Good',10,inplace=True)\n"
   ]
  },
  {
   "cell_type": "code",
   "execution_count": 47,
   "metadata": {},
   "outputs": [],
   "source": [
    "#5L - 10L' 'Less than 5L' 'More than 15L' '10L - 15L'\n",
    "train.Income.replace('Less than 5L',500000,inplace=True)\n",
    "train.Income.replace('5L - 10L',1000000,inplace=True)\n",
    "train.Income.replace('10L - 15L',1500000,inplace=True)\n",
    "train.Income.replace('More than 15L',2000000,inplace=True)\n"
   ]
  },
  {
   "cell_type": "code",
   "execution_count": 48,
   "metadata": {},
   "outputs": [],
   "source": [
    "test.Income.replace('Less than 5L',500000,inplace=True)\n",
    "test.Income.replace('5L - 10L',1000000,inplace=True)\n",
    "test.Income.replace('10L - 15L',1500000,inplace=True)\n",
    "test.Income.replace('More than 15L',2000000,inplace=True)\n"
   ]
  },
  {
   "cell_type": "code",
   "execution_count": 49,
   "metadata": {},
   "outputs": [
    {
     "name": "stdout",
     "output_type": "stream",
     "text": [
      "<class 'pandas.core.frame.DataFrame'>\n",
      "RangeIndex: 6650 entries, 0 to 6649\n",
      "Data columns (total 11 columns):\n",
      " #   Column              Non-Null Count  Dtype  \n",
      "---  ------              --------------  -----  \n",
      " 0   ID                  6650 non-null   object \n",
      " 1   Age                 6650 non-null   int64  \n",
      " 2   Gender              6650 non-null   object \n",
      " 3   Income              6650 non-null   int64  \n",
      " 4   Balance             6650 non-null   float64\n",
      " 5   Vintage             6650 non-null   int64  \n",
      " 6   Transaction_Status  6650 non-null   int64  \n",
      " 7   Product_Holdings    6650 non-null   int64  \n",
      " 8   Credit_Card         6650 non-null   int64  \n",
      " 9   Credit_Category     6650 non-null   int64  \n",
      " 10  Is_Churn            6650 non-null   int64  \n",
      "dtypes: float64(1), int64(8), object(2)\n",
      "memory usage: 571.6+ KB\n"
     ]
    }
   ],
   "source": [
    "train.info()"
   ]
  },
  {
   "cell_type": "code",
   "execution_count": 50,
   "metadata": {},
   "outputs": [],
   "source": [
    "train = pd.get_dummies(train, columns = ['Gender'],drop_first=True)"
   ]
  },
  {
   "cell_type": "code",
   "execution_count": 51,
   "metadata": {},
   "outputs": [],
   "source": [
    "test = pd.get_dummies(test, columns = ['Gender'],drop_first=True)"
   ]
  },
  {
   "cell_type": "code",
   "execution_count": 52,
   "metadata": {},
   "outputs": [],
   "source": [
    "train['bal_by_inc']=train['Balance']/(train['Income'])"
   ]
  },
  {
   "cell_type": "code",
   "execution_count": 53,
   "metadata": {},
   "outputs": [],
   "source": [
    "test['bal_by_inc']=test['Balance']/(test['Income'])"
   ]
  },
  {
   "cell_type": "code",
   "execution_count": 54,
   "metadata": {},
   "outputs": [],
   "source": [
    "train['bal_vint']=train['Balance']*((train['Vintage']*4)+2)"
   ]
  },
  {
   "cell_type": "code",
   "execution_count": 55,
   "metadata": {},
   "outputs": [],
   "source": [
    "test['bal_vint']=test['Balance']*((test['Vintage']*4)+2)"
   ]
  },
  {
   "cell_type": "code",
   "execution_count": 56,
   "metadata": {},
   "outputs": [],
   "source": [
    "train['bal_by_age']=train['Balance']/train['Age']\n",
    "test['bal_by_age']=test['Balance']/test['Age']"
   ]
  },
  {
   "cell_type": "code",
   "execution_count": 57,
   "metadata": {},
   "outputs": [],
   "source": [
    "train['inc_by_age']=train['Income']/train['Age']\n",
    "test['inc_by_age']=test['Income']/test['Age']"
   ]
  },
  {
   "cell_type": "code",
   "execution_count": 58,
   "metadata": {},
   "outputs": [],
   "source": [
    "train['Product_card']=train['Product_Holdings']+train['Credit_Card']"
   ]
  },
  {
   "cell_type": "code",
   "execution_count": 59,
   "metadata": {},
   "outputs": [],
   "source": [
    "test['Product_card']=test['Product_Holdings']+test['Credit_Card']"
   ]
  },
  {
   "cell_type": "code",
   "execution_count": 60,
   "metadata": {},
   "outputs": [],
   "source": [
    "features = [c for c in train.columns if c not in [ID_COL, TARGET_COL]]"
   ]
  },
  {
   "cell_type": "code",
   "execution_count": 61,
   "metadata": {},
   "outputs": [
    {
     "data": {
      "text/html": [
       "<div>\n",
       "<style scoped>\n",
       "    .dataframe tbody tr th:only-of-type {\n",
       "        vertical-align: middle;\n",
       "    }\n",
       "\n",
       "    .dataframe tbody tr th {\n",
       "        vertical-align: top;\n",
       "    }\n",
       "\n",
       "    .dataframe thead th {\n",
       "        text-align: right;\n",
       "    }\n",
       "</style>\n",
       "<table border=\"1\" class=\"dataframe\">\n",
       "  <thead>\n",
       "    <tr style=\"text-align: right;\">\n",
       "      <th></th>\n",
       "      <th>ID</th>\n",
       "      <th>Age</th>\n",
       "      <th>Income</th>\n",
       "      <th>Balance</th>\n",
       "      <th>Vintage</th>\n",
       "      <th>Transaction_Status</th>\n",
       "      <th>Product_Holdings</th>\n",
       "      <th>Credit_Card</th>\n",
       "      <th>Credit_Category</th>\n",
       "      <th>Is_Churn</th>\n",
       "      <th>Gender_Male</th>\n",
       "      <th>bal_by_inc</th>\n",
       "      <th>bal_vint</th>\n",
       "      <th>bal_by_age</th>\n",
       "      <th>inc_by_age</th>\n",
       "      <th>Product_card</th>\n",
       "    </tr>\n",
       "  </thead>\n",
       "  <tbody>\n",
       "    <tr>\n",
       "      <th>0</th>\n",
       "      <td>84e2fcc9</td>\n",
       "      <td>36</td>\n",
       "      <td>1000000</td>\n",
       "      <td>563266.44</td>\n",
       "      <td>4</td>\n",
       "      <td>0</td>\n",
       "      <td>1</td>\n",
       "      <td>0</td>\n",
       "      <td>5</td>\n",
       "      <td>1</td>\n",
       "      <td>0</td>\n",
       "      <td>0.563266</td>\n",
       "      <td>10138795.92</td>\n",
       "      <td>15646.290000</td>\n",
       "      <td>27777.777778</td>\n",
       "      <td>1</td>\n",
       "    </tr>\n",
       "    <tr>\n",
       "      <th>1</th>\n",
       "      <td>57fea15e</td>\n",
       "      <td>53</td>\n",
       "      <td>500000</td>\n",
       "      <td>875572.11</td>\n",
       "      <td>2</td>\n",
       "      <td>1</td>\n",
       "      <td>1</td>\n",
       "      <td>1</td>\n",
       "      <td>1</td>\n",
       "      <td>0</td>\n",
       "      <td>0</td>\n",
       "      <td>1.751144</td>\n",
       "      <td>8755721.10</td>\n",
       "      <td>16520.228491</td>\n",
       "      <td>9433.962264</td>\n",
       "      <td>2</td>\n",
       "    </tr>\n",
       "    <tr>\n",
       "      <th>2</th>\n",
       "      <td>8df34ef3</td>\n",
       "      <td>35</td>\n",
       "      <td>2000000</td>\n",
       "      <td>701607.06</td>\n",
       "      <td>2</td>\n",
       "      <td>1</td>\n",
       "      <td>2</td>\n",
       "      <td>0</td>\n",
       "      <td>1</td>\n",
       "      <td>0</td>\n",
       "      <td>0</td>\n",
       "      <td>0.350804</td>\n",
       "      <td>7016070.60</td>\n",
       "      <td>20045.916000</td>\n",
       "      <td>57142.857143</td>\n",
       "      <td>2</td>\n",
       "    </tr>\n",
       "    <tr>\n",
       "      <th>3</th>\n",
       "      <td>c5c0788b</td>\n",
       "      <td>43</td>\n",
       "      <td>2000000</td>\n",
       "      <td>1393922.16</td>\n",
       "      <td>0</td>\n",
       "      <td>1</td>\n",
       "      <td>2</td>\n",
       "      <td>1</td>\n",
       "      <td>1</td>\n",
       "      <td>1</td>\n",
       "      <td>0</td>\n",
       "      <td>0.696961</td>\n",
       "      <td>2787844.32</td>\n",
       "      <td>32416.794419</td>\n",
       "      <td>46511.627907</td>\n",
       "      <td>3</td>\n",
       "    </tr>\n",
       "    <tr>\n",
       "      <th>4</th>\n",
       "      <td>951d69c4</td>\n",
       "      <td>39</td>\n",
       "      <td>2000000</td>\n",
       "      <td>893146.23</td>\n",
       "      <td>1</td>\n",
       "      <td>1</td>\n",
       "      <td>1</td>\n",
       "      <td>1</td>\n",
       "      <td>10</td>\n",
       "      <td>1</td>\n",
       "      <td>0</td>\n",
       "      <td>0.446573</td>\n",
       "      <td>5358877.38</td>\n",
       "      <td>22901.185385</td>\n",
       "      <td>51282.051282</td>\n",
       "      <td>2</td>\n",
       "    </tr>\n",
       "  </tbody>\n",
       "</table>\n",
       "</div>"
      ],
      "text/plain": [
       "         ID  Age   Income     Balance  Vintage  Transaction_Status  \\\n",
       "0  84e2fcc9   36  1000000   563266.44        4                   0   \n",
       "1  57fea15e   53   500000   875572.11        2                   1   \n",
       "2  8df34ef3   35  2000000   701607.06        2                   1   \n",
       "3  c5c0788b   43  2000000  1393922.16        0                   1   \n",
       "4  951d69c4   39  2000000   893146.23        1                   1   \n",
       "\n",
       "   Product_Holdings  Credit_Card  Credit_Category  Is_Churn  Gender_Male  \\\n",
       "0                 1            0                5         1            0   \n",
       "1                 1            1                1         0            0   \n",
       "2                 2            0                1         0            0   \n",
       "3                 2            1                1         1            0   \n",
       "4                 1            1               10         1            0   \n",
       "\n",
       "   bal_by_inc     bal_vint    bal_by_age    inc_by_age  Product_card  \n",
       "0    0.563266  10138795.92  15646.290000  27777.777778             1  \n",
       "1    1.751144   8755721.10  16520.228491   9433.962264             2  \n",
       "2    0.350804   7016070.60  20045.916000  57142.857143             2  \n",
       "3    0.696961   2787844.32  32416.794419  46511.627907             3  \n",
       "4    0.446573   5358877.38  22901.185385  51282.051282             2  "
      ]
     },
     "execution_count": 61,
     "metadata": {},
     "output_type": "execute_result"
    }
   ],
   "source": [
    "train.head()"
   ]
  },
  {
   "cell_type": "code",
   "execution_count": 62,
   "metadata": {
    "scrolled": false
   },
   "outputs": [
    {
     "data": {
      "text/plain": [
       "['Age',\n",
       " 'Income',\n",
       " 'Balance',\n",
       " 'Vintage',\n",
       " 'Transaction_Status',\n",
       " 'Product_Holdings',\n",
       " 'Credit_Card',\n",
       " 'Credit_Category',\n",
       " 'Gender_Male',\n",
       " 'bal_by_inc',\n",
       " 'bal_vint',\n",
       " 'bal_by_age',\n",
       " 'inc_by_age',\n",
       " 'Product_card']"
      ]
     },
     "execution_count": 62,
     "metadata": {},
     "output_type": "execute_result"
    }
   ],
   "source": [
    "features"
   ]
  },
  {
   "cell_type": "code",
   "execution_count": 63,
   "metadata": {},
   "outputs": [
    {
     "data": {
      "text/html": [
       "<div>\n",
       "<style scoped>\n",
       "    .dataframe tbody tr th:only-of-type {\n",
       "        vertical-align: middle;\n",
       "    }\n",
       "\n",
       "    .dataframe tbody tr th {\n",
       "        vertical-align: top;\n",
       "    }\n",
       "\n",
       "    .dataframe thead th {\n",
       "        text-align: right;\n",
       "    }\n",
       "</style>\n",
       "<table border=\"1\" class=\"dataframe\">\n",
       "  <thead>\n",
       "    <tr style=\"text-align: right;\">\n",
       "      <th></th>\n",
       "      <th>ID</th>\n",
       "      <th>Age</th>\n",
       "      <th>Income</th>\n",
       "      <th>Balance</th>\n",
       "      <th>Vintage</th>\n",
       "      <th>Transaction_Status</th>\n",
       "      <th>Product_Holdings</th>\n",
       "      <th>Credit_Card</th>\n",
       "      <th>Credit_Category</th>\n",
       "      <th>Is_Churn</th>\n",
       "      <th>Gender_Male</th>\n",
       "      <th>bal_by_inc</th>\n",
       "      <th>bal_vint</th>\n",
       "      <th>bal_by_age</th>\n",
       "      <th>inc_by_age</th>\n",
       "      <th>Product_card</th>\n",
       "    </tr>\n",
       "  </thead>\n",
       "  <tbody>\n",
       "    <tr>\n",
       "      <th>0</th>\n",
       "      <td>84e2fcc9</td>\n",
       "      <td>36</td>\n",
       "      <td>1000000</td>\n",
       "      <td>563266.44</td>\n",
       "      <td>4</td>\n",
       "      <td>0</td>\n",
       "      <td>1</td>\n",
       "      <td>0</td>\n",
       "      <td>5</td>\n",
       "      <td>1</td>\n",
       "      <td>0</td>\n",
       "      <td>0.563266</td>\n",
       "      <td>10138795.92</td>\n",
       "      <td>15646.290000</td>\n",
       "      <td>27777.777778</td>\n",
       "      <td>1</td>\n",
       "    </tr>\n",
       "    <tr>\n",
       "      <th>1</th>\n",
       "      <td>57fea15e</td>\n",
       "      <td>53</td>\n",
       "      <td>500000</td>\n",
       "      <td>875572.11</td>\n",
       "      <td>2</td>\n",
       "      <td>1</td>\n",
       "      <td>1</td>\n",
       "      <td>1</td>\n",
       "      <td>1</td>\n",
       "      <td>0</td>\n",
       "      <td>0</td>\n",
       "      <td>1.751144</td>\n",
       "      <td>8755721.10</td>\n",
       "      <td>16520.228491</td>\n",
       "      <td>9433.962264</td>\n",
       "      <td>2</td>\n",
       "    </tr>\n",
       "    <tr>\n",
       "      <th>2</th>\n",
       "      <td>8df34ef3</td>\n",
       "      <td>35</td>\n",
       "      <td>2000000</td>\n",
       "      <td>701607.06</td>\n",
       "      <td>2</td>\n",
       "      <td>1</td>\n",
       "      <td>2</td>\n",
       "      <td>0</td>\n",
       "      <td>1</td>\n",
       "      <td>0</td>\n",
       "      <td>0</td>\n",
       "      <td>0.350804</td>\n",
       "      <td>7016070.60</td>\n",
       "      <td>20045.916000</td>\n",
       "      <td>57142.857143</td>\n",
       "      <td>2</td>\n",
       "    </tr>\n",
       "    <tr>\n",
       "      <th>3</th>\n",
       "      <td>c5c0788b</td>\n",
       "      <td>43</td>\n",
       "      <td>2000000</td>\n",
       "      <td>1393922.16</td>\n",
       "      <td>0</td>\n",
       "      <td>1</td>\n",
       "      <td>2</td>\n",
       "      <td>1</td>\n",
       "      <td>1</td>\n",
       "      <td>1</td>\n",
       "      <td>0</td>\n",
       "      <td>0.696961</td>\n",
       "      <td>2787844.32</td>\n",
       "      <td>32416.794419</td>\n",
       "      <td>46511.627907</td>\n",
       "      <td>3</td>\n",
       "    </tr>\n",
       "    <tr>\n",
       "      <th>4</th>\n",
       "      <td>951d69c4</td>\n",
       "      <td>39</td>\n",
       "      <td>2000000</td>\n",
       "      <td>893146.23</td>\n",
       "      <td>1</td>\n",
       "      <td>1</td>\n",
       "      <td>1</td>\n",
       "      <td>1</td>\n",
       "      <td>10</td>\n",
       "      <td>1</td>\n",
       "      <td>0</td>\n",
       "      <td>0.446573</td>\n",
       "      <td>5358877.38</td>\n",
       "      <td>22901.185385</td>\n",
       "      <td>51282.051282</td>\n",
       "      <td>2</td>\n",
       "    </tr>\n",
       "  </tbody>\n",
       "</table>\n",
       "</div>"
      ],
      "text/plain": [
       "         ID  Age   Income     Balance  Vintage  Transaction_Status  \\\n",
       "0  84e2fcc9   36  1000000   563266.44        4                   0   \n",
       "1  57fea15e   53   500000   875572.11        2                   1   \n",
       "2  8df34ef3   35  2000000   701607.06        2                   1   \n",
       "3  c5c0788b   43  2000000  1393922.16        0                   1   \n",
       "4  951d69c4   39  2000000   893146.23        1                   1   \n",
       "\n",
       "   Product_Holdings  Credit_Card  Credit_Category  Is_Churn  Gender_Male  \\\n",
       "0                 1            0                5         1            0   \n",
       "1                 1            1                1         0            0   \n",
       "2                 2            0                1         0            0   \n",
       "3                 2            1                1         1            0   \n",
       "4                 1            1               10         1            0   \n",
       "\n",
       "   bal_by_inc     bal_vint    bal_by_age    inc_by_age  Product_card  \n",
       "0    0.563266  10138795.92  15646.290000  27777.777778             1  \n",
       "1    1.751144   8755721.10  16520.228491   9433.962264             2  \n",
       "2    0.350804   7016070.60  20045.916000  57142.857143             2  \n",
       "3    0.696961   2787844.32  32416.794419  46511.627907             3  \n",
       "4    0.446573   5358877.38  22901.185385  51282.051282             2  "
      ]
     },
     "execution_count": 63,
     "metadata": {},
     "output_type": "execute_result"
    }
   ],
   "source": [
    "train.head()"
   ]
  },
  {
   "cell_type": "code",
   "execution_count": 64,
   "metadata": {},
   "outputs": [
    {
     "data": {
      "text/plain": [
       "<matplotlib.axes._subplots.AxesSubplot at 0x2f4c836ccc8>"
      ]
     },
     "execution_count": 64,
     "metadata": {},
     "output_type": "execute_result"
    },
    {
     "data": {
      "image/png": "[encoded data removed]",
      "text/plain": [
       "<Figure size 1008x576 with 2 Axes>"
      ]
     },
     "metadata": {},
     "output_type": "display_data"
    }
   ],
   "source": [
    "plt.figure(figsize=(14,8))\n",
    "sns.heatmap(train.corr(),annot=True)"
   ]
  },
  {
   "cell_type": "code",
   "execution_count": 65,
   "metadata": {
    "scrolled": true
   },
   "outputs": [
    {
     "name": "stdout",
     "output_type": "stream",
     "text": [
      "<class 'pandas.core.frame.DataFrame'>\n",
      "RangeIndex: 6650 entries, 0 to 6649\n",
      "Data columns (total 16 columns):\n",
      " #   Column              Non-Null Count  Dtype  \n",
      "---  ------              --------------  -----  \n",
      " 0   ID                  6650 non-null   object \n",
      " 1   Age                 6650 non-null   int64  \n",
      " 2   Income              6650 non-null   int64  \n",
      " 3   Balance             6650 non-null   float64\n",
      " 4   Vintage             6650 non-null   int64  \n",
      " 5   Transaction_Status  6650 non-null   int64  \n",
      " 6   Product_Holdings    6650 non-null   int64  \n",
      " 7   Credit_Card         6650 non-null   int64  \n",
      " 8   Credit_Category     6650 non-null   int64  \n",
      " 9   Is_Churn            6650 non-null   int64  \n",
      " 10  Gender_Male         6650 non-null   uint8  \n",
      " 11  bal_by_inc          6650 non-null   float64\n",
      " 12  bal_vint            6650 non-null   float64\n",
      " 13  bal_by_age          6650 non-null   float64\n",
      " 14  inc_by_age          6650 non-null   float64\n",
      " 15  Product_card        6650 non-null   int64  \n",
      "dtypes: float64(5), int64(9), object(1), uint8(1)\n",
      "memory usage: 785.9+ KB\n"
     ]
    }
   ],
   "source": [
    "train.info()"
   ]
  },
  {
   "cell_type": "code",
   "execution_count": 66,
   "metadata": {},
   "outputs": [],
   "source": [
    "train1=train.copy()"
   ]
  },
  {
   "cell_type": "code",
   "execution_count": 67,
   "metadata": {},
   "outputs": [],
   "source": [
    "train=train.drop(['Product_Holdings','Credit_Card'],axis=1)"
   ]
  },
  {
   "cell_type": "code",
   "execution_count": 68,
   "metadata": {},
   "outputs": [],
   "source": [
    "test=test.drop(['Product_Holdings','Credit_Card'],axis=1)"
   ]
  },
  {
   "cell_type": "code",
   "execution_count": 69,
   "metadata": {},
   "outputs": [],
   "source": [
    "features = [c for c in train.columns if c not in [ID_COL, TARGET_COL]]"
   ]
  },
  {
   "cell_type": "code",
   "execution_count": 70,
   "metadata": {},
   "outputs": [],
   "source": [
    "X = train.drop(['Is_Churn','ID'],axis='columns')\n",
    "y = train['Is_Churn']"
   ]
  },
  {
   "cell_type": "code",
   "execution_count": 71,
   "metadata": {
    "scrolled": true
   },
   "outputs": [
    {
     "data": {
      "text/plain": [
       "0    5113\n",
       "1    1537\n",
       "Name: Is_Churn, dtype: int64"
      ]
     },
     "execution_count": 71,
     "metadata": {},
     "output_type": "execute_result"
    }
   ],
   "source": [
    "y.value_counts()"
   ]
  },
  {
   "cell_type": "code",
   "execution_count": 72,
   "metadata": {},
   "outputs": [
    {
     "data": {
      "text/plain": [
       "1    5113\n",
       "0    5113\n",
       "Name: Is_Churn, dtype: int64"
      ]
     },
     "execution_count": 72,
     "metadata": {},
     "output_type": "execute_result"
    }
   ],
   "source": [
    "from imblearn.over_sampling import SMOTE\n",
    "\n",
    "smote = SMOTE(sampling_strategy='minority')\n",
    "X_sm, y_sm = smote.fit_resample(X, y)\n",
    "\n",
    "y_sm.value_counts()\n"
   ]
  },
  {
   "cell_type": "code",
   "execution_count": 73,
   "metadata": {},
   "outputs": [],
   "source": [
    "train_sm=pd.concat([X_sm,y_sm],axis=1)"
   ]
  },
  {
   "cell_type": "code",
   "execution_count": 74,
   "metadata": {},
   "outputs": [
    {
     "data": {
      "text/html": [
       "<div>\n",
       "<style scoped>\n",
       "    .dataframe tbody tr th:only-of-type {\n",
       "        vertical-align: middle;\n",
       "    }\n",
       "\n",
       "    .dataframe tbody tr th {\n",
       "        vertical-align: top;\n",
       "    }\n",
       "\n",
       "    .dataframe thead th {\n",
       "        text-align: right;\n",
       "    }\n",
       "</style>\n",
       "<table border=\"1\" class=\"dataframe\">\n",
       "  <thead>\n",
       "    <tr style=\"text-align: right;\">\n",
       "      <th></th>\n",
       "      <th>Age</th>\n",
       "      <th>Income</th>\n",
       "      <th>Balance</th>\n",
       "      <th>Vintage</th>\n",
       "      <th>Transaction_Status</th>\n",
       "      <th>Credit_Category</th>\n",
       "      <th>Gender_Male</th>\n",
       "      <th>bal_by_inc</th>\n",
       "      <th>bal_vint</th>\n",
       "      <th>bal_by_age</th>\n",
       "      <th>inc_by_age</th>\n",
       "      <th>Product_card</th>\n",
       "      <th>Is_Churn</th>\n",
       "    </tr>\n",
       "  </thead>\n",
       "  <tbody>\n",
       "    <tr>\n",
       "      <th>0</th>\n",
       "      <td>36</td>\n",
       "      <td>1000000</td>\n",
       "      <td>5.632664e+05</td>\n",
       "      <td>4</td>\n",
       "      <td>0</td>\n",
       "      <td>5</td>\n",
       "      <td>0</td>\n",
       "      <td>0.563266</td>\n",
       "      <td>1.013880e+07</td>\n",
       "      <td>15646.290000</td>\n",
       "      <td>27777.777778</td>\n",
       "      <td>1</td>\n",
       "      <td>1</td>\n",
       "    </tr>\n",
       "    <tr>\n",
       "      <th>1</th>\n",
       "      <td>53</td>\n",
       "      <td>500000</td>\n",
       "      <td>8.755721e+05</td>\n",
       "      <td>2</td>\n",
       "      <td>1</td>\n",
       "      <td>1</td>\n",
       "      <td>0</td>\n",
       "      <td>1.751144</td>\n",
       "      <td>8.755721e+06</td>\n",
       "      <td>16520.228491</td>\n",
       "      <td>9433.962264</td>\n",
       "      <td>2</td>\n",
       "      <td>0</td>\n",
       "    </tr>\n",
       "    <tr>\n",
       "      <th>2</th>\n",
       "      <td>35</td>\n",
       "      <td>2000000</td>\n",
       "      <td>7.016071e+05</td>\n",
       "      <td>2</td>\n",
       "      <td>1</td>\n",
       "      <td>1</td>\n",
       "      <td>0</td>\n",
       "      <td>0.350804</td>\n",
       "      <td>7.016071e+06</td>\n",
       "      <td>20045.916000</td>\n",
       "      <td>57142.857143</td>\n",
       "      <td>2</td>\n",
       "      <td>0</td>\n",
       "    </tr>\n",
       "    <tr>\n",
       "      <th>3</th>\n",
       "      <td>43</td>\n",
       "      <td>2000000</td>\n",
       "      <td>1.393922e+06</td>\n",
       "      <td>0</td>\n",
       "      <td>1</td>\n",
       "      <td>1</td>\n",
       "      <td>0</td>\n",
       "      <td>0.696961</td>\n",
       "      <td>2.787844e+06</td>\n",
       "      <td>32416.794419</td>\n",
       "      <td>46511.627907</td>\n",
       "      <td>3</td>\n",
       "      <td>1</td>\n",
       "    </tr>\n",
       "    <tr>\n",
       "      <th>4</th>\n",
       "      <td>39</td>\n",
       "      <td>2000000</td>\n",
       "      <td>8.931462e+05</td>\n",
       "      <td>1</td>\n",
       "      <td>1</td>\n",
       "      <td>10</td>\n",
       "      <td>0</td>\n",
       "      <td>0.446573</td>\n",
       "      <td>5.358877e+06</td>\n",
       "      <td>22901.185385</td>\n",
       "      <td>51282.051282</td>\n",
       "      <td>2</td>\n",
       "      <td>1</td>\n",
       "    </tr>\n",
       "    <tr>\n",
       "      <th>...</th>\n",
       "      <td>...</td>\n",
       "      <td>...</td>\n",
       "      <td>...</td>\n",
       "      <td>...</td>\n",
       "      <td>...</td>\n",
       "      <td>...</td>\n",
       "      <td>...</td>\n",
       "      <td>...</td>\n",
       "      <td>...</td>\n",
       "      <td>...</td>\n",
       "      <td>...</td>\n",
       "      <td>...</td>\n",
       "      <td>...</td>\n",
       "    </tr>\n",
       "    <tr>\n",
       "      <th>10221</th>\n",
       "      <td>42</td>\n",
       "      <td>1688306</td>\n",
       "      <td>1.081758e+06</td>\n",
       "      <td>4</td>\n",
       "      <td>0</td>\n",
       "      <td>2</td>\n",
       "      <td>0</td>\n",
       "      <td>0.653348</td>\n",
       "      <td>1.947164e+07</td>\n",
       "      <td>27765.371379</td>\n",
       "      <td>45235.837484</td>\n",
       "      <td>1</td>\n",
       "      <td>1</td>\n",
       "    </tr>\n",
       "    <tr>\n",
       "      <th>10222</th>\n",
       "      <td>39</td>\n",
       "      <td>500000</td>\n",
       "      <td>7.394571e+05</td>\n",
       "      <td>2</td>\n",
       "      <td>1</td>\n",
       "      <td>2</td>\n",
       "      <td>0</td>\n",
       "      <td>1.478914</td>\n",
       "      <td>7.394571e+06</td>\n",
       "      <td>19883.971268</td>\n",
       "      <td>13410.135136</td>\n",
       "      <td>2</td>\n",
       "      <td>1</td>\n",
       "    </tr>\n",
       "    <tr>\n",
       "      <th>10223</th>\n",
       "      <td>40</td>\n",
       "      <td>2000000</td>\n",
       "      <td>7.344872e+05</td>\n",
       "      <td>4</td>\n",
       "      <td>0</td>\n",
       "      <td>8</td>\n",
       "      <td>0</td>\n",
       "      <td>0.367244</td>\n",
       "      <td>1.322077e+07</td>\n",
       "      <td>18237.306597</td>\n",
       "      <td>49615.434055</td>\n",
       "      <td>2</td>\n",
       "      <td>1</td>\n",
       "    </tr>\n",
       "    <tr>\n",
       "      <th>10224</th>\n",
       "      <td>43</td>\n",
       "      <td>1500000</td>\n",
       "      <td>7.887410e+05</td>\n",
       "      <td>0</td>\n",
       "      <td>0</td>\n",
       "      <td>1</td>\n",
       "      <td>0</td>\n",
       "      <td>0.525827</td>\n",
       "      <td>1.577482e+06</td>\n",
       "      <td>17972.212122</td>\n",
       "      <td>34180.530779</td>\n",
       "      <td>1</td>\n",
       "      <td>1</td>\n",
       "    </tr>\n",
       "    <tr>\n",
       "      <th>10225</th>\n",
       "      <td>33</td>\n",
       "      <td>1500000</td>\n",
       "      <td>5.742289e+05</td>\n",
       "      <td>0</td>\n",
       "      <td>0</td>\n",
       "      <td>5</td>\n",
       "      <td>0</td>\n",
       "      <td>0.382819</td>\n",
       "      <td>1.148458e+06</td>\n",
       "      <td>17137.975257</td>\n",
       "      <td>44659.465168</td>\n",
       "      <td>2</td>\n",
       "      <td>1</td>\n",
       "    </tr>\n",
       "  </tbody>\n",
       "</table>\n",
       "<p>10226 rows × 13 columns</p>\n",
       "</div>"
      ],
      "text/plain": [
       "       Age   Income       Balance  Vintage  Transaction_Status  \\\n",
       "0       36  1000000  5.632664e+05        4                   0   \n",
       "1       53   500000  8.755721e+05        2                   1   \n",
       "2       35  2000000  7.016071e+05        2                   1   \n",
       "3       43  2000000  1.393922e+06        0                   1   \n",
       "4       39  2000000  8.931462e+05        1                   1   \n",
       "...    ...      ...           ...      ...                 ...   \n",
       "10221   42  1688306  1.081758e+06        4                   0   \n",
       "10222   39   500000  7.394571e+05        2                   1   \n",
       "10223   40  2000000  7.344872e+05        4                   0   \n",
       "10224   43  1500000  7.887410e+05        0                   0   \n",
       "10225   33  1500000  5.742289e+05        0                   0   \n",
       "\n",
       "       Credit_Category  Gender_Male  bal_by_inc      bal_vint    bal_by_age  \\\n",
       "0                    5            0    0.563266  1.013880e+07  15646.290000   \n",
       "1                    1            0    1.751144  8.755721e+06  16520.228491   \n",
       "2                    1            0    0.350804  7.016071e+06  20045.916000   \n",
       "3                    1            0    0.696961  2.787844e+06  32416.794419   \n",
       "4                   10            0    0.446573  5.358877e+06  22901.185385   \n",
       "...                ...          ...         ...           ...           ...   \n",
       "10221                2            0    0.653348  1.947164e+07  27765.371379   \n",
       "10222                2            0    1.478914  7.394571e+06  19883.971268   \n",
       "10223                8            0    0.367244  1.322077e+07  18237.306597   \n",
       "10224                1            0    0.525827  1.577482e+06  17972.212122   \n",
       "10225                5            0    0.382819  1.148458e+06  17137.975257   \n",
       "\n",
       "         inc_by_age  Product_card  Is_Churn  \n",
       "0      27777.777778             1         1  \n",
       "1       9433.962264             2         0  \n",
       "2      57142.857143             2         0  \n",
       "3      46511.627907             3         1  \n",
       "4      51282.051282             2         1  \n",
       "...             ...           ...       ...  \n",
       "10221  45235.837484             1         1  \n",
       "10222  13410.135136             2         1  \n",
       "10223  49615.434055             2         1  \n",
       "10224  34180.530779             1         1  \n",
       "10225  44659.465168             2         1  \n",
       "\n",
       "[10226 rows x 13 columns]"
      ]
     },
     "execution_count": 74,
     "metadata": {},
     "output_type": "execute_result"
    }
   ],
   "source": [
    "train_sm"
   ]
  },
  {
   "cell_type": "code",
   "execution_count": 75,
   "metadata": {},
   "outputs": [],
   "source": [
    "target = train_sm[TARGET_COL]"
   ]
  },
  {
   "cell_type": "code",
   "execution_count": 76,
   "metadata": {},
   "outputs": [],
   "source": [
    "def run_clf_kfold(clf, train, test, features):\n",
    "\n",
    "    N_SPLITS = 10\n",
    "\n",
    "    oofs = np.zeros(len(train))\n",
    "    preds = np.zeros((len(test)))\n",
    "    feature_importances=pd.DataFrame()\n",
    "    \n",
    "\n",
    "    folds = StratifiedKFold(n_splits = N_SPLITS)\n",
    "\n",
    "    for fold_, (trn_idx, val_idx) in enumerate(folds.split(train, train[TARGET_COL])):\n",
    "        print(f'\\n------------- Fold {fold_ + 1} -------------')\n",
    "\n",
    "    ############# Get train, validation and test sets along with targets ################\n",
    "  \n",
    "        ### Training Set\n",
    "        X_trn, y_trn = train[features].iloc[trn_idx], target.iloc[trn_idx]\n",
    "\n",
    "        ### Validation Set\n",
    "        X_val, y_val = train[features].iloc[val_idx], target.iloc[val_idx]\n",
    "\n",
    "        ### Test Set\n",
    "        X_test = test[features]\n",
    "\n",
    "        ############# Scaling Data ################\n",
    "        scaler = StandardScaler()\n",
    "        _ = scaler.fit(X_trn)\n",
    "\n",
    "        X_trn = scaler.transform(X_trn)\n",
    "        X_val = scaler.transform(X_val)\n",
    "        X_test = scaler.transform(X_test)\n",
    "\n",
    "\n",
    "        ############# Fitting and Predicting ################\n",
    "\n",
    "        _ = clf.fit(X_trn, y_trn)\n",
    "        fold_importance=pd.DataFrame({'fold':fold_+1,'feature':features,'importance':clf.feature_importances_})\n",
    "        \n",
    "        feature_importances=pd.concat([feature_importances,fold_importance],axis=0)\n",
    "\n",
    "\n",
    "        ### Instead of directly predicting the classes we will obtain the probability of positive class.\n",
    "        preds_val = clf.predict_proba(X_val)[:, 1]\n",
    "        preds_test = clf.predict_proba(X_test)[:, 1]\n",
    "\n",
    "        fold_score = f1_score(y_val, preds_val.round())\n",
    "        print(f'\\nF1 score for validation set is {fold_score}')\n",
    "\n",
    "        oofs[val_idx] = preds_val\n",
    "        preds += preds_test / N_SPLITS\n",
    "\n",
    "    oofs_score = f1_score(target, oofs.round())\n",
    "    print(f'\\n\\nF1 score for oofs is {oofs_score}')\n",
    "\n",
    "    feature_importances=feature_importances.reset_index(drop=True)\n",
    "    fi=feature_importances.groupby('feature')['importance'].mean().sort_values(ascending=False)[:20][::-1]\n",
    "    fi.plot(kind='barh',figsize=(14,8))\n",
    "   \n",
    "    return oofs, preds,fi"
   ]
  },
  {
   "cell_type": "code",
   "execution_count": 77,
   "metadata": {},
   "outputs": [],
   "source": [
    "def download_preds(preds_test, file_name = 'hacklive_sub.csv'):\n",
    "\n",
    "  ## 1. Setting the target column with our obtained predictions\n",
    "  ss[TARGET_COL] = preds_test\n",
    "\n",
    "  ## 2. Saving our predictions to a csv file\n",
    "\n",
    "  ss.to_csv(file_name, index = False)\n"
   ]
  },
  {
   "cell_type": "code",
   "execution_count": 78,
   "metadata": {},
   "outputs": [],
   "source": [
    "features = [c for c in train.columns if c not in [ID_COL, TARGET_COL]]"
   ]
  },
  {
   "cell_type": "code",
   "execution_count": 79,
   "metadata": {
    "scrolled": false
   },
   "outputs": [
    {
     "data": {
      "text/plain": [
       "['Age',\n",
       " 'Income',\n",
       " 'Balance',\n",
       " 'Vintage',\n",
       " 'Transaction_Status',\n",
       " 'Credit_Category',\n",
       " 'Gender_Male',\n",
       " 'bal_by_inc',\n",
       " 'bal_vint',\n",
       " 'bal_by_age',\n",
       " 'inc_by_age',\n",
       " 'Product_card']"
      ]
     },
     "execution_count": 79,
     "metadata": {},
     "output_type": "execute_result"
    }
   ],
   "source": [
    "features"
   ]
  },
  {
   "cell_type": "code",
   "execution_count": 80,
   "metadata": {},
   "outputs": [
    {
     "name": "stdout",
     "output_type": "stream",
     "text": [
      "\n",
      "------------- Fold 1 -------------\n",
      "\n",
      "F1 score for validation set is 0.4862023653088043\n",
      "\n",
      "------------- Fold 2 -------------\n",
      "\n",
      "F1 score for validation set is 0.39095744680851063\n",
      "\n",
      "------------- Fold 3 -------------\n",
      "\n",
      "F1 score for validation set is 0.4396782841823056\n",
      "\n",
      "------------- Fold 4 -------------\n",
      "\n",
      "F1 score for validation set is 0.8639391056137012\n",
      "\n",
      "------------- Fold 5 -------------\n",
      "\n",
      "F1 score for validation set is 0.8684210526315789\n",
      "\n",
      "------------- Fold 6 -------------\n",
      "\n",
      "F1 score for validation set is 0.865979381443299\n",
      "\n",
      "------------- Fold 7 -------------\n",
      "\n",
      "F1 score for validation set is 0.8723599632690542\n",
      "\n",
      "------------- Fold 8 -------------\n",
      "\n",
      "F1 score for validation set is 0.8767908309455588\n",
      "\n",
      "------------- Fold 9 -------------\n",
      "\n",
      "F1 score for validation set is 0.8691499522445081\n",
      "\n",
      "------------- Fold 10 -------------\n",
      "\n",
      "F1 score for validation set is 0.8713060057197332\n",
      "\n",
      "\n",
      "F1 score for oofs is 0.7691512457355526\n"
     ]
    },
    {
     "data": {
      "image/png": "[encoded data removed]",
      "text/plain": [
       "<Figure size 1008x576 with 1 Axes>"
      ]
     },
     "metadata": {},
     "output_type": "display_data"
    }
   ],
   "source": [
    "clf = LGBMClassifier(random_state=123)\n",
    "lgb_oofs, lgb_preds,fi = run_clf_kfold(clf, train_sm, test, features)"
   ]
  },
  {
   "cell_type": "code",
   "execution_count": 81,
   "metadata": {},
   "outputs": [],
   "source": [
    "lg_preds_rounded = lgb_preds.round()"
   ]
  },
  {
   "cell_type": "code",
   "execution_count": 82,
   "metadata": {},
   "outputs": [],
   "source": [
    "download_preds(lg_preds_rounded, file_name = 'lg_sm_folds.csv')"
   ]
  },
  {
   "cell_type": "code",
   "execution_count": 83,
   "metadata": {},
   "outputs": [
    {
     "data": {
      "text/plain": [
       "{'boosting_type': 'gbdt',\n",
       " 'class_weight': None,\n",
       " 'colsample_bytree': 1.0,\n",
       " 'importance_type': 'split',\n",
       " 'learning_rate': 0.1,\n",
       " 'max_depth': -1,\n",
       " 'min_child_samples': 20,\n",
       " 'min_child_weight': 0.001,\n",
       " 'min_split_gain': 0.0,\n",
       " 'n_estimators': 100,\n",
       " 'n_jobs': -1,\n",
       " 'num_leaves': 31,\n",
       " 'objective': None,\n",
       " 'random_state': 123,\n",
       " 'reg_alpha': 0.0,\n",
       " 'reg_lambda': 0.0,\n",
       " 'silent': True,\n",
       " 'subsample': 1.0,\n",
       " 'subsample_for_bin': 200000,\n",
       " 'subsample_freq': 0}"
      ]
     },
     "execution_count": 83,
     "metadata": {},
     "output_type": "execute_result"
    }
   ],
   "source": [
    "clf.get_params()"
   ]
  },
  {
   "cell_type": "code",
   "execution_count": 84,
   "metadata": {},
   "outputs": [],
   "source": [
    "def run_gradient_boosting(clf,fit_params, train, test, features):\n",
    "\n",
    "    N_SPLITS = 10\n",
    "\n",
    "    oofs = np.zeros(len(train))\n",
    "    preds = np.zeros((len(test)))\n",
    "    feature_importances=pd.DataFrame()\n",
    "    \n",
    "\n",
    "    folds = StratifiedKFold(n_splits = N_SPLITS)\n",
    "\n",
    "    for fold_, (trn_idx, val_idx) in enumerate(folds.split(train, train[TARGET_COL])):\n",
    "        print(f'\\n------------- Fold {fold_ + 1} -------------')\n",
    "\n",
    "    ############# Get train, validation and test sets along with targets ################\n",
    "  \n",
    "        ### Training Set\n",
    "        X_trn, y_trn = train[features].iloc[trn_idx], target.iloc[trn_idx]\n",
    "\n",
    "        ### Validation Set\n",
    "        X_val, y_val = train[features].iloc[val_idx], target.iloc[val_idx]\n",
    "\n",
    "        ### Test Set\n",
    "        X_test = test[features]\n",
    "\n",
    "        ############# Scaling Data ################\n",
    "        scaler = StandardScaler()\n",
    "        _ = scaler.fit(X_trn)\n",
    "\n",
    "        X_trn = scaler.transform(X_trn)\n",
    "        X_val = scaler.transform(X_val)\n",
    "        X_test = scaler.transform(X_test)\n",
    "\n",
    "\n",
    "        ############# Fitting and Predicting ################\n",
    "\n",
    "        _ = clf.fit(X_trn, y_trn, eval_set = [(X_val, y_val)], **fit_params)\n",
    "            \n",
    "        fold_importance=pd.DataFrame({'fold':fold_+1,'feature':features,'importance':clf.feature_importances_})\n",
    "        \n",
    "        feature_importances=pd.concat([feature_importances,fold_importance],axis=0)\n",
    "\n",
    "\n",
    "        ### Instead of directly predicting the classes we will obtain the probability of positive class.\n",
    "        preds_val = clf.predict_proba(X_val)[:, 1]\n",
    "        preds_test = clf.predict_proba(X_test)[:, 1]\n",
    "\n",
    "        fold_score = f1_score(y_val, preds_val.round())\n",
    "        print(f'\\nF1 score for validation set is {fold_score}')\n",
    "\n",
    "        oofs[val_idx] = preds_val\n",
    "        preds += preds_test / N_SPLITS\n",
    "\n",
    "    oofs_score = f1_score(target, oofs.round())\n",
    "    print(f'\\n\\nF1 score for oofs is {oofs_score}')\n",
    "\n",
    "    feature_importances=feature_importances.reset_index(drop=True)\n",
    "    fi=feature_importances.groupby('feature')['importance'].mean().sort_values(ascending=False)[:20][::-1]\n",
    "    fi.plot(kind='barh',figsize=(14,8))\n",
    "   \n",
    "    return oofs, preds,fi"
   ]
  },
  {
   "cell_type": "code",
   "execution_count": 85,
   "metadata": {
    "scrolled": true
   },
   "outputs": [
    {
     "name": "stdout",
     "output_type": "stream",
     "text": [
      "\n",
      "------------- Fold 1 -------------\n",
      "[LightGBM] [Warning] Unknown parameter: sub_sample\n",
      "[LightGBM] [Warning] feature_fraction is set=0.7, colsample_bytree=0.76 will be ignored. Current value: feature_fraction=0.7\n",
      "Training until validation scores don't improve for 200 rounds\n",
      "[100]\tvalid_0's binary_logloss: 0.665165\n",
      "[200]\tvalid_0's binary_logloss: 0.673408\n",
      "[300]\tvalid_0's binary_logloss: 0.681549\n",
      "Early stopping, best iteration is:\n",
      "[102]\tvalid_0's binary_logloss: 0.664917\n",
      "\n",
      "F1 score for validation set is 0.44090305444887123\n",
      "\n",
      "------------- Fold 2 -------------\n",
      "[LightGBM] [Warning] Unknown parameter: sub_sample\n",
      "[LightGBM] [Warning] feature_fraction is set=0.7, colsample_bytree=0.76 will be ignored. Current value: feature_fraction=0.7\n",
      "Training until validation scores don't improve for 200 rounds\n",
      "[100]\tvalid_0's binary_logloss: 0.693979\n",
      "[200]\tvalid_0's binary_logloss: 0.719008\n",
      "Early stopping, best iteration is:\n",
      "[41]\tvalid_0's binary_logloss: 0.685008\n",
      "\n",
      "F1 score for validation set is 0.3671232876712329\n",
      "\n",
      "------------- Fold 3 -------------\n",
      "[LightGBM] [Warning] Unknown parameter: sub_sample\n",
      "[LightGBM] [Warning] feature_fraction is set=0.7, colsample_bytree=0.76 will be ignored. Current value: feature_fraction=0.7\n",
      "Training until validation scores don't improve for 200 rounds\n",
      "[100]\tvalid_0's binary_logloss: 0.671626\n",
      "[200]\tvalid_0's binary_logloss: 0.683228\n",
      "Early stopping, best iteration is:\n",
      "[83]\tvalid_0's binary_logloss: 0.670845\n",
      "\n",
      "F1 score for validation set is 0.4327956989247312\n",
      "\n",
      "------------- Fold 4 -------------\n",
      "[LightGBM] [Warning] Unknown parameter: sub_sample\n",
      "[LightGBM] [Warning] feature_fraction is set=0.7, colsample_bytree=0.76 will be ignored. Current value: feature_fraction=0.7\n",
      "Training until validation scores don't improve for 200 rounds\n",
      "[100]\tvalid_0's binary_logloss: 0.506936\n",
      "[200]\tvalid_0's binary_logloss: 0.439045\n",
      "[300]\tvalid_0's binary_logloss: 0.407144\n",
      "[400]\tvalid_0's binary_logloss: 0.386556\n",
      "[500]\tvalid_0's binary_logloss: 0.372073\n",
      "[600]\tvalid_0's binary_logloss: 0.363632\n",
      "[700]\tvalid_0's binary_logloss: 0.356474\n",
      "[800]\tvalid_0's binary_logloss: 0.349341\n",
      "[900]\tvalid_0's binary_logloss: 0.342009\n",
      "[1000]\tvalid_0's binary_logloss: 0.336217\n",
      "[1100]\tvalid_0's binary_logloss: 0.332722\n",
      "[1200]\tvalid_0's binary_logloss: 0.328562\n",
      "[1300]\tvalid_0's binary_logloss: 0.325405\n",
      "[1400]\tvalid_0's binary_logloss: 0.3223\n",
      "[1500]\tvalid_0's binary_logloss: 0.31909\n",
      "[1600]\tvalid_0's binary_logloss: 0.315446\n",
      "[1700]\tvalid_0's binary_logloss: 0.313059\n",
      "[1800]\tvalid_0's binary_logloss: 0.310827\n",
      "[1900]\tvalid_0's binary_logloss: 0.308663\n",
      "[2000]\tvalid_0's binary_logloss: 0.306674\n",
      "[2100]\tvalid_0's binary_logloss: 0.304695\n",
      "[2200]\tvalid_0's binary_logloss: 0.302956\n",
      "[2300]\tvalid_0's binary_logloss: 0.301299\n",
      "[2400]\tvalid_0's binary_logloss: 0.300019\n",
      "[2500]\tvalid_0's binary_logloss: 0.299067\n",
      "[2600]\tvalid_0's binary_logloss: 0.297665\n",
      "[2700]\tvalid_0's binary_logloss: 0.29575\n",
      "[2800]\tvalid_0's binary_logloss: 0.29418\n",
      "[2900]\tvalid_0's binary_logloss: 0.292266\n",
      "[3000]\tvalid_0's binary_logloss: 0.290754\n",
      "Did not meet early stopping. Best iteration is:\n",
      "[2984]\tvalid_0's binary_logloss: 0.290753\n",
      "\n",
      "F1 score for validation set is 0.9028037383177571\n",
      "\n",
      "------------- Fold 5 -------------\n",
      "[LightGBM] [Warning] Unknown parameter: sub_sample\n",
      "[LightGBM] [Warning] feature_fraction is set=0.7, colsample_bytree=0.76 will be ignored. Current value: feature_fraction=0.7\n",
      "Training until validation scores don't improve for 200 rounds\n",
      "[100]\tvalid_0's binary_logloss: 0.505816\n",
      "[200]\tvalid_0's binary_logloss: 0.437504\n",
      "[300]\tvalid_0's binary_logloss: 0.406424\n",
      "[400]\tvalid_0's binary_logloss: 0.38688\n",
      "[500]\tvalid_0's binary_logloss: 0.374292\n",
      "[600]\tvalid_0's binary_logloss: 0.364263\n",
      "[700]\tvalid_0's binary_logloss: 0.356455\n",
      "[800]\tvalid_0's binary_logloss: 0.35076\n",
      "[900]\tvalid_0's binary_logloss: 0.345357\n",
      "[1000]\tvalid_0's binary_logloss: 0.340073\n",
      "[1100]\tvalid_0's binary_logloss: 0.335992\n",
      "[1200]\tvalid_0's binary_logloss: 0.332932\n",
      "[1300]\tvalid_0's binary_logloss: 0.329599\n",
      "[1400]\tvalid_0's binary_logloss: 0.327135\n",
      "[1500]\tvalid_0's binary_logloss: 0.324207\n",
      "[1600]\tvalid_0's binary_logloss: 0.321703\n",
      "[1700]\tvalid_0's binary_logloss: 0.318721\n",
      "[1800]\tvalid_0's binary_logloss: 0.316089\n",
      "[1900]\tvalid_0's binary_logloss: 0.313835\n",
      "[2000]\tvalid_0's binary_logloss: 0.311643\n",
      "[2100]\tvalid_0's binary_logloss: 0.308955\n",
      "[2200]\tvalid_0's binary_logloss: 0.306585\n",
      "[2300]\tvalid_0's binary_logloss: 0.304823\n",
      "[2400]\tvalid_0's binary_logloss: 0.302918\n",
      "[2500]\tvalid_0's binary_logloss: 0.300718\n",
      "[2600]\tvalid_0's binary_logloss: 0.298827\n",
      "[2700]\tvalid_0's binary_logloss: 0.297195\n",
      "[2800]\tvalid_0's binary_logloss: 0.296142\n",
      "[2900]\tvalid_0's binary_logloss: 0.294767\n",
      "[3000]\tvalid_0's binary_logloss: 0.293235\n",
      "Did not meet early stopping. Best iteration is:\n",
      "[3000]\tvalid_0's binary_logloss: 0.293235\n",
      "\n",
      "F1 score for validation set is 0.8923643054277829\n",
      "\n",
      "------------- Fold 6 -------------\n",
      "[LightGBM] [Warning] Unknown parameter: sub_sample\n",
      "[LightGBM] [Warning] feature_fraction is set=0.7, colsample_bytree=0.76 will be ignored. Current value: feature_fraction=0.7\n",
      "Training until validation scores don't improve for 200 rounds\n",
      "[100]\tvalid_0's binary_logloss: 0.507941\n",
      "[200]\tvalid_0's binary_logloss: 0.441683\n",
      "[300]\tvalid_0's binary_logloss: 0.411666\n",
      "[400]\tvalid_0's binary_logloss: 0.39364\n",
      "[500]\tvalid_0's binary_logloss: 0.38091\n",
      "[600]\tvalid_0's binary_logloss: 0.3724\n",
      "[700]\tvalid_0's binary_logloss: 0.365435\n",
      "[800]\tvalid_0's binary_logloss: 0.358595\n",
      "[900]\tvalid_0's binary_logloss: 0.353152\n",
      "[1000]\tvalid_0's binary_logloss: 0.346931\n",
      "[1100]\tvalid_0's binary_logloss: 0.342323\n",
      "[1200]\tvalid_0's binary_logloss: 0.338505\n",
      "[1300]\tvalid_0's binary_logloss: 0.334688\n",
      "[1400]\tvalid_0's binary_logloss: 0.331879\n",
      "[1500]\tvalid_0's binary_logloss: 0.329553\n",
      "[1600]\tvalid_0's binary_logloss: 0.327171\n",
      "[1700]\tvalid_0's binary_logloss: 0.3247\n",
      "[1800]\tvalid_0's binary_logloss: 0.32276\n",
      "[1900]\tvalid_0's binary_logloss: 0.321819\n",
      "[2000]\tvalid_0's binary_logloss: 0.320015\n",
      "[2100]\tvalid_0's binary_logloss: 0.318655\n",
      "[2200]\tvalid_0's binary_logloss: 0.317124\n",
      "[2300]\tvalid_0's binary_logloss: 0.315584\n",
      "[2400]\tvalid_0's binary_logloss: 0.313954\n",
      "[2500]\tvalid_0's binary_logloss: 0.312564\n",
      "[2600]\tvalid_0's binary_logloss: 0.310639\n",
      "[2700]\tvalid_0's binary_logloss: 0.308892\n",
      "[2800]\tvalid_0's binary_logloss: 0.307522\n",
      "[2900]\tvalid_0's binary_logloss: 0.306756\n",
      "[3000]\tvalid_0's binary_logloss: 0.305652\n",
      "Did not meet early stopping. Best iteration is:\n",
      "[2998]\tvalid_0's binary_logloss: 0.305626\n",
      "\n",
      "F1 score for validation set is 0.8843663274745606\n",
      "\n",
      "------------- Fold 7 -------------\n",
      "[LightGBM] [Warning] Unknown parameter: sub_sample\n",
      "[LightGBM] [Warning] feature_fraction is set=0.7, colsample_bytree=0.76 will be ignored. Current value: feature_fraction=0.7\n",
      "Training until validation scores don't improve for 200 rounds\n",
      "[100]\tvalid_0's binary_logloss: 0.502799\n",
      "[200]\tvalid_0's binary_logloss: 0.432105\n",
      "[300]\tvalid_0's binary_logloss: 0.39968\n",
      "[400]\tvalid_0's binary_logloss: 0.379896\n",
      "[500]\tvalid_0's binary_logloss: 0.366849\n",
      "[600]\tvalid_0's binary_logloss: 0.358231\n",
      "[700]\tvalid_0's binary_logloss: 0.352354\n",
      "[800]\tvalid_0's binary_logloss: 0.3447\n",
      "[900]\tvalid_0's binary_logloss: 0.337553\n",
      "[1000]\tvalid_0's binary_logloss: 0.332336\n",
      "[1100]\tvalid_0's binary_logloss: 0.327534\n",
      "[1200]\tvalid_0's binary_logloss: 0.324507\n",
      "[1300]\tvalid_0's binary_logloss: 0.321698\n",
      "[1400]\tvalid_0's binary_logloss: 0.319377\n",
      "[1500]\tvalid_0's binary_logloss: 0.317164\n",
      "[1600]\tvalid_0's binary_logloss: 0.314906\n",
      "[1700]\tvalid_0's binary_logloss: 0.312109\n",
      "[1800]\tvalid_0's binary_logloss: 0.309547\n",
      "[1900]\tvalid_0's binary_logloss: 0.307075\n",
      "[2000]\tvalid_0's binary_logloss: 0.305148\n",
      "[2100]\tvalid_0's binary_logloss: 0.303823\n",
      "[2200]\tvalid_0's binary_logloss: 0.301142\n",
      "[2300]\tvalid_0's binary_logloss: 0.298896\n",
      "[2400]\tvalid_0's binary_logloss: 0.297204\n",
      "[2500]\tvalid_0's binary_logloss: 0.294991\n",
      "[2600]\tvalid_0's binary_logloss: 0.293463\n",
      "[2700]\tvalid_0's binary_logloss: 0.292391\n",
      "[2800]\tvalid_0's binary_logloss: 0.291369\n",
      "[2900]\tvalid_0's binary_logloss: 0.29008\n",
      "[3000]\tvalid_0's binary_logloss: 0.288302\n",
      "Did not meet early stopping. Best iteration is:\n",
      "[3000]\tvalid_0's binary_logloss: 0.288302\n",
      "\n",
      "F1 score for validation set is 0.888073394495413\n",
      "\n",
      "------------- Fold 8 -------------\n",
      "[LightGBM] [Warning] Unknown parameter: sub_sample\n",
      "[LightGBM] [Warning] feature_fraction is set=0.7, colsample_bytree=0.76 will be ignored. Current value: feature_fraction=0.7\n",
      "Training until validation scores don't improve for 200 rounds\n",
      "[100]\tvalid_0's binary_logloss: 0.5055\n"
     ]
    },
    {
     "name": "stdout",
     "output_type": "stream",
     "text": [
      "[200]\tvalid_0's binary_logloss: 0.441034\n",
      "[300]\tvalid_0's binary_logloss: 0.410396\n",
      "[400]\tvalid_0's binary_logloss: 0.391927\n",
      "[500]\tvalid_0's binary_logloss: 0.37944\n",
      "[600]\tvalid_0's binary_logloss: 0.37098\n",
      "[700]\tvalid_0's binary_logloss: 0.362035\n",
      "[800]\tvalid_0's binary_logloss: 0.354082\n",
      "[900]\tvalid_0's binary_logloss: 0.347049\n",
      "[1000]\tvalid_0's binary_logloss: 0.341649\n",
      "[1100]\tvalid_0's binary_logloss: 0.336802\n",
      "[1200]\tvalid_0's binary_logloss: 0.333272\n",
      "[1300]\tvalid_0's binary_logloss: 0.329908\n",
      "[1400]\tvalid_0's binary_logloss: 0.326663\n",
      "[1500]\tvalid_0's binary_logloss: 0.32366\n",
      "[1600]\tvalid_0's binary_logloss: 0.320241\n",
      "[1700]\tvalid_0's binary_logloss: 0.317858\n",
      "[1800]\tvalid_0's binary_logloss: 0.315645\n",
      "[1900]\tvalid_0's binary_logloss: 0.312818\n",
      "[2000]\tvalid_0's binary_logloss: 0.311188\n",
      "[2100]\tvalid_0's binary_logloss: 0.308852\n",
      "[2200]\tvalid_0's binary_logloss: 0.307052\n",
      "[2300]\tvalid_0's binary_logloss: 0.305073\n",
      "[2400]\tvalid_0's binary_logloss: 0.30312\n",
      "[2500]\tvalid_0's binary_logloss: 0.301066\n",
      "[2600]\tvalid_0's binary_logloss: 0.299149\n",
      "[2700]\tvalid_0's binary_logloss: 0.296999\n",
      "[2800]\tvalid_0's binary_logloss: 0.295647\n",
      "[2900]\tvalid_0's binary_logloss: 0.294035\n",
      "[3000]\tvalid_0's binary_logloss: 0.292944\n",
      "Did not meet early stopping. Best iteration is:\n",
      "[2998]\tvalid_0's binary_logloss: 0.292943\n",
      "\n",
      "F1 score for validation set is 0.8864059590316573\n",
      "\n",
      "------------- Fold 9 -------------\n",
      "[LightGBM] [Warning] Unknown parameter: sub_sample\n",
      "[LightGBM] [Warning] feature_fraction is set=0.7, colsample_bytree=0.76 will be ignored. Current value: feature_fraction=0.7\n",
      "Training until validation scores don't improve for 200 rounds\n",
      "[100]\tvalid_0's binary_logloss: 0.499712\n",
      "[200]\tvalid_0's binary_logloss: 0.428856\n",
      "[300]\tvalid_0's binary_logloss: 0.398246\n",
      "[400]\tvalid_0's binary_logloss: 0.377527\n",
      "[500]\tvalid_0's binary_logloss: 0.363649\n",
      "[600]\tvalid_0's binary_logloss: 0.354506\n",
      "[700]\tvalid_0's binary_logloss: 0.34763\n",
      "[800]\tvalid_0's binary_logloss: 0.340119\n",
      "[900]\tvalid_0's binary_logloss: 0.332996\n",
      "[1000]\tvalid_0's binary_logloss: 0.326902\n",
      "[1100]\tvalid_0's binary_logloss: 0.321389\n",
      "[1200]\tvalid_0's binary_logloss: 0.316397\n",
      "[1300]\tvalid_0's binary_logloss: 0.311253\n",
      "[1400]\tvalid_0's binary_logloss: 0.30757\n",
      "[1500]\tvalid_0's binary_logloss: 0.304724\n",
      "[1600]\tvalid_0's binary_logloss: 0.302062\n",
      "[1700]\tvalid_0's binary_logloss: 0.29905\n",
      "[1800]\tvalid_0's binary_logloss: 0.29645\n",
      "[1900]\tvalid_0's binary_logloss: 0.29417\n",
      "[2000]\tvalid_0's binary_logloss: 0.291581\n",
      "[2100]\tvalid_0's binary_logloss: 0.288827\n",
      "[2200]\tvalid_0's binary_logloss: 0.28577\n",
      "[2300]\tvalid_0's binary_logloss: 0.284117\n",
      "[2400]\tvalid_0's binary_logloss: 0.28235\n",
      "[2500]\tvalid_0's binary_logloss: 0.281232\n",
      "[2600]\tvalid_0's binary_logloss: 0.28015\n",
      "[2700]\tvalid_0's binary_logloss: 0.278827\n",
      "[2800]\tvalid_0's binary_logloss: 0.277627\n",
      "[2900]\tvalid_0's binary_logloss: 0.275481\n",
      "[3000]\tvalid_0's binary_logloss: 0.274124\n",
      "Did not meet early stopping. Best iteration is:\n",
      "[3000]\tvalid_0's binary_logloss: 0.274124\n",
      "\n",
      "F1 score for validation set is 0.8974600188146755\n",
      "\n",
      "------------- Fold 10 -------------\n",
      "[LightGBM] [Warning] Unknown parameter: sub_sample\n",
      "[LightGBM] [Warning] feature_fraction is set=0.7, colsample_bytree=0.76 will be ignored. Current value: feature_fraction=0.7\n",
      "Training until validation scores don't improve for 200 rounds\n",
      "[100]\tvalid_0's binary_logloss: 0.503321\n",
      "[200]\tvalid_0's binary_logloss: 0.433593\n",
      "[300]\tvalid_0's binary_logloss: 0.401771\n",
      "[400]\tvalid_0's binary_logloss: 0.379966\n",
      "[500]\tvalid_0's binary_logloss: 0.366115\n",
      "[600]\tvalid_0's binary_logloss: 0.356593\n",
      "[700]\tvalid_0's binary_logloss: 0.347821\n",
      "[800]\tvalid_0's binary_logloss: 0.340283\n",
      "[900]\tvalid_0's binary_logloss: 0.3342\n",
      "[1000]\tvalid_0's binary_logloss: 0.328624\n",
      "[1100]\tvalid_0's binary_logloss: 0.324233\n",
      "[1200]\tvalid_0's binary_logloss: 0.320181\n",
      "[1300]\tvalid_0's binary_logloss: 0.316576\n",
      "[1400]\tvalid_0's binary_logloss: 0.312664\n",
      "[1500]\tvalid_0's binary_logloss: 0.309329\n",
      "[1600]\tvalid_0's binary_logloss: 0.305284\n",
      "[1700]\tvalid_0's binary_logloss: 0.302185\n",
      "[1800]\tvalid_0's binary_logloss: 0.298979\n",
      "[1900]\tvalid_0's binary_logloss: 0.295975\n",
      "[2000]\tvalid_0's binary_logloss: 0.294397\n",
      "[2100]\tvalid_0's binary_logloss: 0.293087\n",
      "[2200]\tvalid_0's binary_logloss: 0.29117\n",
      "[2300]\tvalid_0's binary_logloss: 0.289645\n",
      "[2400]\tvalid_0's binary_logloss: 0.288107\n",
      "[2500]\tvalid_0's binary_logloss: 0.286316\n",
      "[2600]\tvalid_0's binary_logloss: 0.284426\n",
      "[2700]\tvalid_0's binary_logloss: 0.282996\n",
      "[2800]\tvalid_0's binary_logloss: 0.281352\n",
      "[2900]\tvalid_0's binary_logloss: 0.280122\n",
      "[3000]\tvalid_0's binary_logloss: 0.278738\n",
      "Did not meet early stopping. Best iteration is:\n",
      "[2999]\tvalid_0's binary_logloss: 0.278729\n",
      "\n",
      "F1 score for validation set is 0.9063948100092679\n",
      "\n",
      "\n",
      "F1 score for oofs is 0.7845665745573637\n"
     ]
    },
    {
     "data": {
      "image/png": "[encoded data removed]",
      "text/plain": [
       "<Figure size 1008x576 with 1 Axes>"
      ]
     },
     "metadata": {},
     "output_type": "display_data"
    }
   ],
   "source": [
    "clf = LGBMClassifier(n_estimators = 3000,\n",
    "                        learning_rate = 0.01,\n",
    "                        colsample_bytree = 0.76,\n",
    "                      sub_sample=0.2,\n",
    "                      max_depth=20,\n",
    "                     feature_fraction=0.7,\n",
    "                     num_leaves=30,\n",
    "                     \n",
    "                        )\n",
    "fit_params = {'verbose': 100, 'early_stopping_rounds': 200}\n",
    "\n",
    "lgb_oofs, lgb_preds,fi = run_gradient_boosting(clf, fit_params, train_sm, test, features)\n",
    "\n"
   ]
  },
  {
   "cell_type": "code",
   "execution_count": 86,
   "metadata": {},
   "outputs": [],
   "source": [
    "lg_preds_rounded = lgb_preds.round()"
   ]
  },
  {
   "cell_type": "code",
   "execution_count": 87,
   "metadata": {},
   "outputs": [],
   "source": [
    "download_preds(lg_preds_rounded, file_name = 'lg_gb_folds.csv')"
   ]
  },
  {
   "cell_type": "code",
   "execution_count": 88,
   "metadata": {},
   "outputs": [
    {
     "name": "stdout",
     "output_type": "stream",
     "text": [
      "\n",
      "------------- Fold 1 -------------\n",
      "[20:33:08] WARNING: C:/Users/Administrator/workspace/xgboost-win64_release_1.4.0/src/learner.cc:1095: Starting in XGBoost 1.3.0, the default evaluation metric used with the objective 'binary:logistic' was changed from 'error' to 'logloss'. Explicitly set eval_metric if you'd like to restore the old behavior.\n",
      "[0]\tvalidation_0-logloss:0.67101\n",
      "[99]\tvalidation_0-logloss:0.73165\n",
      "\n",
      "F1 score for validation set is 0.5255813953488373\n",
      "\n",
      "------------- Fold 2 -------------\n",
      "[20:33:09] WARNING: C:/Users/Administrator/workspace/xgboost-win64_release_1.4.0/src/learner.cc:1095: Starting in XGBoost 1.3.0, the default evaluation metric used with the objective 'binary:logistic' was changed from 'error' to 'logloss'. Explicitly set eval_metric if you'd like to restore the old behavior.\n",
      "[0]\tvalidation_0-logloss:0.68412\n",
      "[99]\tvalidation_0-logloss:0.86154\n",
      "\n",
      "F1 score for validation set is 0.5021739130434782\n",
      "\n",
      "------------- Fold 3 -------------\n",
      "[20:33:10] WARNING: C:/Users/Administrator/workspace/xgboost-win64_release_1.4.0/src/learner.cc:1095: Starting in XGBoost 1.3.0, the default evaluation metric used with the objective 'binary:logistic' was changed from 'error' to 'logloss'. Explicitly set eval_metric if you'd like to restore the old behavior.\n",
      "[0]\tvalidation_0-logloss:0.67509\n",
      "[99]\tvalidation_0-logloss:0.76194\n",
      "\n",
      "F1 score for validation set is 0.5065710872162484\n",
      "\n",
      "------------- Fold 4 -------------\n",
      "[20:33:11] WARNING: C:/Users/Administrator/workspace/xgboost-win64_release_1.4.0/src/learner.cc:1095: Starting in XGBoost 1.3.0, the default evaluation metric used with the objective 'binary:logistic' was changed from 'error' to 'logloss'. Explicitly set eval_metric if you'd like to restore the old behavior.\n",
      "[0]\tvalidation_0-logloss:0.60861\n",
      "[99]\tvalidation_0-logloss:0.31124\n",
      "\n",
      "F1 score for validation set is 0.8721804511278195\n",
      "\n",
      "------------- Fold 5 -------------\n",
      "[20:33:12] WARNING: C:/Users/Administrator/workspace/xgboost-win64_release_1.4.0/src/learner.cc:1095: Starting in XGBoost 1.3.0, the default evaluation metric used with the objective 'binary:logistic' was changed from 'error' to 'logloss'. Explicitly set eval_metric if you'd like to restore the old behavior.\n",
      "[0]\tvalidation_0-logloss:0.60902\n",
      "[99]\tvalidation_0-logloss:0.29611\n",
      "\n",
      "F1 score for validation set is 0.8915662650602411\n",
      "\n",
      "------------- Fold 6 -------------\n",
      "[20:33:13] WARNING: C:/Users/Administrator/workspace/xgboost-win64_release_1.4.0/src/learner.cc:1095: Starting in XGBoost 1.3.0, the default evaluation metric used with the objective 'binary:logistic' was changed from 'error' to 'logloss'. Explicitly set eval_metric if you'd like to restore the old behavior.\n",
      "[0]\tvalidation_0-logloss:0.61521\n",
      "[99]\tvalidation_0-logloss:0.31307\n",
      "\n",
      "F1 score for validation set is 0.8856088560885608\n",
      "\n",
      "------------- Fold 7 -------------\n",
      "[20:33:14] WARNING: C:/Users/Administrator/workspace/xgboost-win64_release_1.4.0/src/learner.cc:1095: Starting in XGBoost 1.3.0, the default evaluation metric used with the objective 'binary:logistic' was changed from 'error' to 'logloss'. Explicitly set eval_metric if you'd like to restore the old behavior.\n",
      "[0]\tvalidation_0-logloss:0.60837\n",
      "[99]\tvalidation_0-logloss:0.30338\n",
      "\n",
      "F1 score for validation set is 0.877959927140255\n",
      "\n",
      "------------- Fold 8 -------------\n",
      "[20:33:15] WARNING: C:/Users/Administrator/workspace/xgboost-win64_release_1.4.0/src/learner.cc:1095: Starting in XGBoost 1.3.0, the default evaluation metric used with the objective 'binary:logistic' was changed from 'error' to 'logloss'. Explicitly set eval_metric if you'd like to restore the old behavior.\n",
      "[0]\tvalidation_0-logloss:0.60502\n",
      "[99]\tvalidation_0-logloss:0.30302\n",
      "\n",
      "F1 score for validation set is 0.8738404452690166\n",
      "\n",
      "------------- Fold 9 -------------\n",
      "[20:33:16] WARNING: C:/Users/Administrator/workspace/xgboost-win64_release_1.4.0/src/learner.cc:1095: Starting in XGBoost 1.3.0, the default evaluation metric used with the objective 'binary:logistic' was changed from 'error' to 'logloss'. Explicitly set eval_metric if you'd like to restore the old behavior.\n",
      "[0]\tvalidation_0-logloss:0.60643\n",
      "[99]\tvalidation_0-logloss:0.28312\n",
      "\n",
      "F1 score for validation set is 0.8922211808809747\n",
      "\n",
      "------------- Fold 10 -------------\n",
      "[20:33:17] WARNING: C:/Users/Administrator/workspace/xgboost-win64_release_1.4.0/src/learner.cc:1095: Starting in XGBoost 1.3.0, the default evaluation metric used with the objective 'binary:logistic' was changed from 'error' to 'logloss'. Explicitly set eval_metric if you'd like to restore the old behavior.\n",
      "[0]\tvalidation_0-logloss:0.60767\n",
      "[99]\tvalidation_0-logloss:0.30176\n",
      "\n",
      "F1 score for validation set is 0.8762790697674417\n",
      "\n",
      "\n",
      "F1 score for oofs is 0.7860657350915173\n"
     ]
    },
    {
     "data": {
      "image/png": "[encoded data removed]",
      "text/plain": [
       "<Figure size 1008x576 with 1 Axes>"
      ]
     },
     "metadata": {},
     "output_type": "display_data"
    }
   ],
   "source": [
    "xgclf = XGBClassifier()\n",
    "fit_params = {'verbose': 200, 'early_stopping_rounds': 200}\n",
    "\n",
    "xgb_oofs, xgb_preds,fi = run_gradient_boosting(xgclf, fit_params, train_sm, test, features)\n"
   ]
  },
  {
   "cell_type": "code",
   "execution_count": 89,
   "metadata": {},
   "outputs": [],
   "source": [
    "xg_preds_rounded = xgb_preds.round()\n",
    "download_preds(xg_preds_rounded, file_name = 'xg_gb_folds.csv')"
   ]
  },
  {
   "cell_type": "code",
   "execution_count": 90,
   "metadata": {},
   "outputs": [
    {
     "name": "stdout",
     "output_type": "stream",
     "text": [
      "\n",
      "------------- Fold 1 -------------\n",
      "Training until validation scores don't improve for 200 rounds\n",
      "[200]\tvalid_0's binary_logloss: 0.651052\n",
      "Did not meet early stopping. Best iteration is:\n",
      "[235]\tvalid_0's binary_logloss: 0.65013\n",
      "\n",
      "F1 score for validation set is 0.4973958333333333\n",
      "\n",
      "------------- Fold 2 -------------\n",
      "Training until validation scores don't improve for 200 rounds\n",
      "[200]\tvalid_0's binary_logloss: 0.683354\n",
      "Did not meet early stopping. Best iteration is:\n",
      "[113]\tvalid_0's binary_logloss: 0.678644\n",
      "\n",
      "F1 score for validation set is 0.4089121887287025\n",
      "\n",
      "------------- Fold 3 -------------\n",
      "Training until validation scores don't improve for 200 rounds\n",
      "[200]\tvalid_0's binary_logloss: 0.656351\n",
      "Did not meet early stopping. Best iteration is:\n",
      "[226]\tvalid_0's binary_logloss: 0.65595\n",
      "\n",
      "F1 score for validation set is 0.45623342175066317\n",
      "\n",
      "------------- Fold 4 -------------\n",
      "Training until validation scores don't improve for 200 rounds\n",
      "[200]\tvalid_0's binary_logloss: 0.492816\n",
      "Did not meet early stopping. Best iteration is:\n",
      "[307]\tvalid_0's binary_logloss: 0.444705\n",
      "\n",
      "F1 score for validation set is 0.859903381642512\n",
      "\n",
      "------------- Fold 5 -------------\n",
      "Training until validation scores don't improve for 200 rounds\n",
      "[200]\tvalid_0's binary_logloss: 0.49443\n",
      "Did not meet early stopping. Best iteration is:\n",
      "[307]\tvalid_0's binary_logloss: 0.444588\n",
      "\n",
      "F1 score for validation set is 0.8547169811320755\n",
      "\n",
      "------------- Fold 6 -------------\n",
      "Training until validation scores don't improve for 200 rounds\n",
      "[200]\tvalid_0's binary_logloss: 0.496238\n",
      "Did not meet early stopping. Best iteration is:\n",
      "[307]\tvalid_0's binary_logloss: 0.446996\n",
      "\n",
      "F1 score for validation set is 0.8549905838041432\n",
      "\n",
      "------------- Fold 7 -------------\n",
      "Training until validation scores don't improve for 200 rounds\n",
      "[200]\tvalid_0's binary_logloss: 0.489121\n",
      "Did not meet early stopping. Best iteration is:\n",
      "[307]\tvalid_0's binary_logloss: 0.439517\n",
      "\n",
      "F1 score for validation set is 0.8658649398704902\n",
      "\n",
      "------------- Fold 8 -------------\n",
      "Training until validation scores don't improve for 200 rounds\n",
      "[200]\tvalid_0's binary_logloss: 0.495996\n",
      "Did not meet early stopping. Best iteration is:\n",
      "[307]\tvalid_0's binary_logloss: 0.448155\n",
      "\n",
      "F1 score for validation set is 0.8547008547008547\n",
      "\n",
      "------------- Fold 9 -------------\n",
      "Training until validation scores don't improve for 200 rounds\n",
      "[200]\tvalid_0's binary_logloss: 0.488831\n",
      "Did not meet early stopping. Best iteration is:\n",
      "[307]\tvalid_0's binary_logloss: 0.438334\n",
      "\n",
      "F1 score for validation set is 0.86341929321872\n",
      "\n",
      "------------- Fold 10 -------------\n",
      "Training until validation scores don't improve for 200 rounds\n",
      "[200]\tvalid_0's binary_logloss: 0.491359\n",
      "Did not meet early stopping. Best iteration is:\n",
      "[307]\tvalid_0's binary_logloss: 0.441607\n",
      "\n",
      "F1 score for validation set is 0.8546679499518767\n",
      "\n",
      "\n",
      "F1 score for oofs is 0.762782032705444\n"
     ]
    },
    {
     "data": {
      "image/png": "[encoded data removed]",
      "text/plain": [
       "<Figure size 1008x576 with 1 Axes>"
      ]
     },
     "metadata": {},
     "output_type": "display_data"
    }
   ],
   "source": [
    "params={'n_estimators': 307, 'max_depth': 9, 'learning_rate': 0.005595292515677793, 'colsample_bytree': 0.4806096956630678, 'num_leaves': 102, 'reg_alpha': 0.1333071812752145, 'reg_lambda': 0.29319576912726125, 'min_split_gain': 0.9026464560760671, 'subsample': 0.4637884686630859}\n",
    "\n",
    "lgclf=LGBMClassifier(**params)\n",
    "fit_params = {'verbose': 200, 'early_stopping_rounds': 200}\n",
    "lgb_oofs, lgb_preds,fi = run_gradient_boosting(lgclf, fit_params, train_sm, test, features)\n"
   ]
  },
  {
   "cell_type": "code",
   "execution_count": 91,
   "metadata": {},
   "outputs": [],
   "source": [
    "lg_preds_rounded = lgb_preds.round()"
   ]
  },
  {
   "cell_type": "code",
   "execution_count": 92,
   "metadata": {},
   "outputs": [],
   "source": [
    "download_preds(lg_preds_rounded, file_name = 'lgb_optun.csv')"
   ]
  },
  {
   "cell_type": "code",
   "execution_count": 93,
   "metadata": {},
   "outputs": [],
   "source": [
    "from sklearn.ensemble import VotingClassifier"
   ]
  },
  {
   "cell_type": "code",
   "execution_count": 94,
   "metadata": {},
   "outputs": [],
   "source": [
    "lg_clf=LGBMClassifier()\n",
    "xg_clf=XGBClassifier()\n"
   ]
  },
  {
   "cell_type": "code",
   "execution_count": 95,
   "metadata": {},
   "outputs": [],
   "source": [
    "vot_clf = VotingClassifier(estimators = [('lg', lg_clf), ('xg', xg_clf)], voting = 'soft')\n"
   ]
  },
  {
   "cell_type": "code",
   "execution_count": 96,
   "metadata": {},
   "outputs": [],
   "source": [
    "def run_vot_kfold(clf, train, test, features):\n",
    "\n",
    "    N_SPLITS = 10\n",
    "\n",
    "    oofs = np.zeros(len(train))\n",
    "    preds = np.zeros((len(test)))\n",
    "    #feature_importances=pd.DataFrame()\n",
    "    \n",
    "\n",
    "    folds = StratifiedKFold(n_splits = N_SPLITS)\n",
    "\n",
    "    for fold_, (trn_idx, val_idx) in enumerate(folds.split(train, train[TARGET_COL])):\n",
    "        print(f'\\n------------- Fold {fold_ + 1} -------------')\n",
    "\n",
    "    ############# Get train, validation and test sets along with targets ################\n",
    "  \n",
    "        ### Training Set\n",
    "        X_trn, y_trn = train[features].iloc[trn_idx], target.iloc[trn_idx]\n",
    "\n",
    "        ### Validation Set\n",
    "        X_val, y_val = train[features].iloc[val_idx], target.iloc[val_idx]\n",
    "\n",
    "        ### Test Set\n",
    "        X_test = test[features]\n",
    "\n",
    "        ############# Scaling Data ################\n",
    "        scaler = StandardScaler()\n",
    "        _ = scaler.fit(X_trn)\n",
    "\n",
    "        X_trn = scaler.transform(X_trn)\n",
    "        X_val = scaler.transform(X_val)\n",
    "        X_test = scaler.transform(X_test)\n",
    "\n",
    "\n",
    "        ############# Fitting and Predicting ################\n",
    "\n",
    "        _ = clf.fit(X_trn, y_trn)\n",
    "        #fold_importance=pd.DataFrame({'fold':fold_+1,'feature':features,'importance':clf.feature_importances_})\n",
    "        \n",
    "        #feature_importances=pd.concat([feature_importances,fold_importance],axis=0)\n",
    "\n",
    "\n",
    "        ### Instead of directly predicting the classes we will obtain the probability of positive class.\n",
    "        preds_val = clf.predict_proba(X_val)[:, 1]\n",
    "        preds_test = clf.predict_proba(X_test)[:, 1]\n",
    "\n",
    "        fold_score = f1_score(y_val, preds_val.round())\n",
    "        print(f'\\nF1 score for validation set is {fold_score}')\n",
    "\n",
    "        oofs[val_idx] = preds_val\n",
    "        preds += preds_test / N_SPLITS\n",
    "\n",
    "    oofs_score = f1_score(target, oofs.round())\n",
    "    print(f'\\n\\nF1 score for oofs is {oofs_score}')\n",
    "\n",
    "    #feature_importances=feature_importances.reset_index(drop=True)\n",
    "    #fi=feature_importances.groupby('feature')['importance'].mean().sort_values(ascending=False)[:20][::-1]\n",
    "    #fi.plot(kind='barh',figsize=(14,8))\n",
    "   \n",
    "    return oofs, preds"
   ]
  },
  {
   "cell_type": "code",
   "execution_count": 97,
   "metadata": {},
   "outputs": [
    {
     "name": "stdout",
     "output_type": "stream",
     "text": [
      "\n",
      "------------- Fold 1 -------------\n",
      "[20:33:30] WARNING: C:/Users/Administrator/workspace/xgboost-win64_release_1.4.0/src/learner.cc:1095: Starting in XGBoost 1.3.0, the default evaluation metric used with the objective 'binary:logistic' was changed from 'error' to 'logloss'. Explicitly set eval_metric if you'd like to restore the old behavior.\n",
      "\n",
      "F1 score for validation set is 0.4902216427640157\n",
      "\n",
      "------------- Fold 2 -------------\n",
      "[20:33:31] WARNING: C:/Users/Administrator/workspace/xgboost-win64_release_1.4.0/src/learner.cc:1095: Starting in XGBoost 1.3.0, the default evaluation metric used with the objective 'binary:logistic' was changed from 'error' to 'logloss'. Explicitly set eval_metric if you'd like to restore the old behavior.\n",
      "\n",
      "F1 score for validation set is 0.40854472630173566\n",
      "\n",
      "------------- Fold 3 -------------\n",
      "[20:33:32] WARNING: C:/Users/Administrator/workspace/xgboost-win64_release_1.4.0/src/learner.cc:1095: Starting in XGBoost 1.3.0, the default evaluation metric used with the objective 'binary:logistic' was changed from 'error' to 'logloss'. Explicitly set eval_metric if you'd like to restore the old behavior.\n",
      "\n",
      "F1 score for validation set is 0.4351351351351351\n",
      "\n",
      "------------- Fold 4 -------------\n",
      "[20:33:34] WARNING: C:/Users/Administrator/workspace/xgboost-win64_release_1.4.0/src/learner.cc:1095: Starting in XGBoost 1.3.0, the default evaluation metric used with the objective 'binary:logistic' was changed from 'error' to 'logloss'. Explicitly set eval_metric if you'd like to restore the old behavior.\n",
      "\n",
      "F1 score for validation set is 0.88465204957102\n",
      "\n",
      "------------- Fold 5 -------------\n",
      "[20:33:35] WARNING: C:/Users/Administrator/workspace/xgboost-win64_release_1.4.0/src/learner.cc:1095: Starting in XGBoost 1.3.0, the default evaluation metric used with the objective 'binary:logistic' was changed from 'error' to 'logloss'. Explicitly set eval_metric if you'd like to restore the old behavior.\n",
      "\n",
      "F1 score for validation set is 0.8796296296296297\n",
      "\n",
      "------------- Fold 6 -------------\n",
      "[20:33:36] WARNING: C:/Users/Administrator/workspace/xgboost-win64_release_1.4.0/src/learner.cc:1095: Starting in XGBoost 1.3.0, the default evaluation metric used with the objective 'binary:logistic' was changed from 'error' to 'logloss'. Explicitly set eval_metric if you'd like to restore the old behavior.\n",
      "\n",
      "F1 score for validation set is 0.8822984244670992\n",
      "\n",
      "------------- Fold 7 -------------\n",
      "[20:33:37] WARNING: C:/Users/Administrator/workspace/xgboost-win64_release_1.4.0/src/learner.cc:1095: Starting in XGBoost 1.3.0, the default evaluation metric used with the objective 'binary:logistic' was changed from 'error' to 'logloss'. Explicitly set eval_metric if you'd like to restore the old behavior.\n",
      "\n",
      "F1 score for validation set is 0.8799266727772687\n",
      "\n",
      "------------- Fold 8 -------------\n",
      "[20:33:38] WARNING: C:/Users/Administrator/workspace/xgboost-win64_release_1.4.0/src/learner.cc:1095: Starting in XGBoost 1.3.0, the default evaluation metric used with the objective 'binary:logistic' was changed from 'error' to 'logloss'. Explicitly set eval_metric if you'd like to restore the old behavior.\n",
      "\n",
      "F1 score for validation set is 0.8835041938490213\n",
      "\n",
      "------------- Fold 9 -------------\n",
      "[20:33:39] WARNING: C:/Users/Administrator/workspace/xgboost-win64_release_1.4.0/src/learner.cc:1095: Starting in XGBoost 1.3.0, the default evaluation metric used with the objective 'binary:logistic' was changed from 'error' to 'logloss'. Explicitly set eval_metric if you'd like to restore the old behavior.\n",
      "\n",
      "F1 score for validation set is 0.887005649717514\n",
      "\n",
      "------------- Fold 10 -------------\n",
      "[20:33:40] WARNING: C:/Users/Administrator/workspace/xgboost-win64_release_1.4.0/src/learner.cc:1095: Starting in XGBoost 1.3.0, the default evaluation metric used with the objective 'binary:logistic' was changed from 'error' to 'logloss'. Explicitly set eval_metric if you'd like to restore the old behavior.\n",
      "\n",
      "F1 score for validation set is 0.8863849765258215\n",
      "\n",
      "\n",
      "F1 score for oofs is 0.7819579702716555\n"
     ]
    }
   ],
   "source": [
    "vt_oofs, vt_preds = run_vot_kfold(vot_clf, train_sm, test, features)"
   ]
  },
  {
   "cell_type": "code",
   "execution_count": 98,
   "metadata": {},
   "outputs": [],
   "source": [
    "vt_preds_rounded = vt_preds.round()\n",
    "download_preds(vt_preds_rounded, file_name = 'voting_tuned.csv')"
   ]
  },
  {
   "cell_type": "code",
   "execution_count": null,
   "metadata": {},
   "outputs": [],
   "source": []
  }
 ],
 "metadata": {
  "kernelspec": {
   "display_name": "Python 3",
   "language": "python",
   "name": "python3"
  },
  "language_info": {
   "codemirror_mode": {
    "name": "ipython",
    "version": 3
   },
   "file_extension": ".py",
   "mimetype": "text/x-python",
   "name": "python",
   "nbconvert_exporter": "python",
   "pygments_lexer": "ipython3",
   "version": "3.7.6"
  }
 },
 "nbformat": 4,
 "nbformat_minor": 4
}
